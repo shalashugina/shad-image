{
 "metadata": {
  "name": "",
  "signature": "sha256:61f50a74a0be654a4fcd51d6607ef13e624ecc89ff20e837686f7504e84f1c7c"
 },
 "nbformat": 3,
 "nbformat_minor": 0,
 "worksheets": [
  {
   "cells": [
    {
     "cell_type": "heading",
     "level": 1,
     "metadata": {},
     "source": [
      "\u041a\u043e\u043d\u043a\u0443\u0440\u0441 1 - \u0428\u0430\u043b\u0430\u0448\u0443\u0433\u0438\u043d\u0430 \u0415\u043b\u0435\u043d\u0430 \u0410\u043d\u0434\u0440\u0435\u0435\u0432\u043d\u0430 - \u0437\u0430\u043e\u0447\u043d\u043e\u0435(CS)"
     ]
    },
    {
     "cell_type": "heading",
     "level": 4,
     "metadata": {},
     "source": [
      "\u0414\u0430\u043b\u0435\u0435 \u0438\u0434\u0435\u0442 \u043f\u043e\u0447\u0442\u0438 \u043d\u0435\u0438\u0437\u043c\u0435\u043d\u043d\u044b\u0439 \u043a\u043e\u0434 baseline \u0440\u0435\u0448\u0435\u043d\u0438\u044f, \u043f\u043e\u0447\u0442\u0438 \u0432\u0441\u0435, \u0447\u0442\u043e \u0434\u0435\u043b\u0430\u043b\u043e\u0441\u044c \u0432 \u043a\u043e\u0434\u0435 - \u043f\u043e\u0434\u0431\u0438\u0440\u0430\u043b\u0438\u0441\u044c \u0431\u043e\u043b\u0435\u0435 \u043e\u043f\u0442\u0438\u043c\u0430\u043b\u044c\u043d\u044b\u0435 \u043f\u0430\u0440\u0430\u043c\u0435\u0442\u0440\u044b \u0434\u043b\u044f Random Forest \u0441 \u0446\u0435\u043b\u044c\u044e \u043e\u0431\u043e\u0433\u043d\u0430\u0442\u044c \u0432 \u043b\u0438\u0434\u0435\u0440\u0431\u043e\u0440\u0434\u0435 \u0431\u0430\u0437\u043e\u0432\u043e\u0435 \u0440\u0435\u0448\u0435\u043d\u0438\u0435 \u0441 \u043d\u0438\u043c. \u041c\u043d\u0435 \u0434\u043e \u0441\u0438\u0445 \u043f\u043e\u0440 \u043d\u0435\u043f\u043e\u043d\u044f\u0442\u043d\u043e, \u043a\u0430\u043a \u0442\u0430\u043a\u043e\u0435 \u043b\u0435\u043d\u0438\u0432\u043e\u0435 \u0440\u0435\u0448\u0435\u043d\u0438\u0435 \u043c\u043e\u0433\u043b\u043e \u0437\u0430\u043d\u044f\u0442\u044c 7 \u043c\u0435\u0441\u0442\u043e \u0441\u0440\u0435\u0434\u0438 \u0432\u0441\u0435\u0445 \u0432 \u0438\u0442\u043e\u0433\u043e\u0432\u043e\u043c \u043b\u0438\u0434\u0435\u0440\u0431\u043e\u0440\u0434\u0435, \u043d\u043e \u043e\u0442 \u043d\u0435 \u043e\u0447\u0435\u043d\u044c \u0437\u0430\u0441\u043b\u0443\u0436\u0435\u043d\u043d\u044b\u0445 \u0431\u0430\u043b\u043b\u043e\u0432 \u044f \u043d\u0435 \u043e\u0442\u043a\u0430\u0436\u0443\u0441\u044c)) \u0412\u0441\u0435, \u0447\u0442\u043e \u0438\u043c\u0435\u0435\u0442 \u0441\u043c\u044b\u0441\u043b \u043f\u0440\u043e\u0432\u0435\u0440\u044f\u0442\u044c, \u043d\u0430\u0445\u043e\u0434\u0438\u0442\u0441\u044f \u0432 \u043a\u043e\u043d\u0446\u0435 \u0432 \u0440\u0430\u0437\u0434\u0435\u043b\u0435 Random Forest. \u041f\u043e\u0440\u044f\u0434\u043e\u043a \u0431\u043b\u043e\u043a\u043e\u0432 \u043a\u043e\u0434\u044b \u0438\u0437\u043c\u0435\u043d\u0435\u043d \u0438 \u043a\u043e\u043b\u0438\u0447\u0435\u0441\u0442\u0432\u043e \u0430\u043d\u0430\u043b\u043e\u0433\u0438\u0447\u043d\u044b\u0445 \u0434\u0440\u0443\u0433 \u0434\u0440\u0443\u0433\u0443 \u043e\u0431\u0443\u0447\u0435\u043d\u0438\u0439 \u0438 \u043f\u0440\u043e\u0432\u0435\u0440\u043e\u043a \u0443\u043c\u0435\u043d\u044c\u0448\u0435\u043d\u043e \u0434\u043b\u044f \u0443\u0434\u043e\u0431\u0441\u0442\u0432\u0430 \u0432\u043e\u0441\u043f\u0440\u0438\u044f\u0442\u0438\u044f."
     ]
    },
    {
     "cell_type": "heading",
     "level": 1,
     "metadata": {},
     "source": [
      "\u041f\u0440\u0435\u0434\u0441\u043a\u0430\u0437\u0430\u043d\u0438\u0435 \u0431\u0438\u043e\u043b\u043e\u0433\u0438\u0447\u0435\u0441\u043a\u043e\u0439 \u0440\u0435\u0430\u043a\u0446\u0438\u0438 \u043c\u043e\u043b\u0435\u043a\u0443\u043b\u044b"
     ]
    },
    {
     "cell_type": "code",
     "collapsed": false,
     "input": [
      "%pylab inline\n",
      "import pandas"
     ],
     "language": "python",
     "metadata": {},
     "outputs": [
      {
       "output_type": "stream",
       "stream": "stdout",
       "text": [
        "Populating the interactive namespace from numpy and matplotlib\n"
       ]
      }
     ],
     "prompt_number": 2
    },
    {
     "cell_type": "heading",
     "level": 2,
     "metadata": {},
     "source": [
      "\u0427\u0442\u0435\u043d\u0438\u0435 \u0434\u0430\u043d\u043d\u044b\u0445"
     ]
    },
    {
     "cell_type": "code",
     "collapsed": false,
     "input": [
      "train = pandas.read_csv('molecules_train.csv')\n",
      "print 'Data size:', train.shape\n",
      "train.ix[:, :16].head()"
     ],
     "language": "python",
     "metadata": {},
     "outputs": [
      {
       "output_type": "stream",
       "stream": "stdout",
       "text": [
        "Data size: (2625, 1777)\n"
       ]
      },
      {
       "html": [
        "<div style=\"max-height:1000px;max-width:1500px;overflow:auto;\">\n",
        "<table border=\"1\" class=\"dataframe\">\n",
        "  <thead>\n",
        "    <tr style=\"text-align: right;\">\n",
        "      <th></th>\n",
        "      <th>Activity</th>\n",
        "      <th>D1</th>\n",
        "      <th>D2</th>\n",
        "      <th>D3</th>\n",
        "      <th>D4</th>\n",
        "      <th>D5</th>\n",
        "      <th>D6</th>\n",
        "      <th>D7</th>\n",
        "      <th>D8</th>\n",
        "      <th>D9</th>\n",
        "      <th>D10</th>\n",
        "      <th>D11</th>\n",
        "      <th>D12</th>\n",
        "      <th>D13</th>\n",
        "      <th>D14</th>\n",
        "      <th>D15</th>\n",
        "    </tr>\n",
        "  </thead>\n",
        "  <tbody>\n",
        "    <tr>\n",
        "      <th>0</th>\n",
        "      <td> 1</td>\n",
        "      <td> 0.133333</td>\n",
        "      <td> 0.772618</td>\n",
        "      <td> 0.15</td>\n",
        "      <td> 0</td>\n",
        "      <td> 0.280199</td>\n",
        "      <td> 0.711417</td>\n",
        "      <td> 0.182305</td>\n",
        "      <td> 0.347225</td>\n",
        "      <td> 0.729971</td>\n",
        "      <td> 0.210315</td>\n",
        "      <td> 0.354839</td>\n",
        "      <td> 0.0000</td>\n",
        "      <td> 0.0000</td>\n",
        "      <td> 0.175873</td>\n",
        "      <td> 0.501175</td>\n",
        "    </tr>\n",
        "    <tr>\n",
        "      <th>1</th>\n",
        "      <td> 1</td>\n",
        "      <td> 0.033300</td>\n",
        "      <td> 0.584210</td>\n",
        "      <td> 0.00</td>\n",
        "      <td> 0</td>\n",
        "      <td> 0.300641</td>\n",
        "      <td> 0.622394</td>\n",
        "      <td> 0.441048</td>\n",
        "      <td> 0.731882</td>\n",
        "      <td> 0.680640</td>\n",
        "      <td> 0.482437</td>\n",
        "      <td> 0.000000</td>\n",
        "      <td> 0.1875</td>\n",
        "      <td> 0.0000</td>\n",
        "      <td> 0.318114</td>\n",
        "      <td> 0.565024</td>\n",
        "    </tr>\n",
        "    <tr>\n",
        "      <th>2</th>\n",
        "      <td> 0</td>\n",
        "      <td> 0.066700</td>\n",
        "      <td> 0.591785</td>\n",
        "      <td> 0.10</td>\n",
        "      <td> 0</td>\n",
        "      <td> 0.185452</td>\n",
        "      <td> 0.766298</td>\n",
        "      <td> 0.247578</td>\n",
        "      <td> 0.445119</td>\n",
        "      <td> 0.829463</td>\n",
        "      <td> 0.219611</td>\n",
        "      <td> 0.076000</td>\n",
        "      <td> 0.0625</td>\n",
        "      <td> 0.0323</td>\n",
        "      <td> 0.091500</td>\n",
        "      <td> 0.520983</td>\n",
        "    </tr>\n",
        "    <tr>\n",
        "      <th>3</th>\n",
        "      <td> 0</td>\n",
        "      <td> 0.033300</td>\n",
        "      <td> 0.662372</td>\n",
        "      <td> 0.05</td>\n",
        "      <td> 0</td>\n",
        "      <td> 0.241394</td>\n",
        "      <td> 0.650117</td>\n",
        "      <td> 0.328377</td>\n",
        "      <td> 0.404066</td>\n",
        "      <td> 0.721890</td>\n",
        "      <td> 0.297515</td>\n",
        "      <td> 0.228111</td>\n",
        "      <td> 0.1250</td>\n",
        "      <td> 0.0000</td>\n",
        "      <td> 0.136165</td>\n",
        "      <td> 0.565900</td>\n",
        "    </tr>\n",
        "    <tr>\n",
        "      <th>4</th>\n",
        "      <td> 1</td>\n",
        "      <td> 0.033300</td>\n",
        "      <td> 0.516704</td>\n",
        "      <td> 0.00</td>\n",
        "      <td> 0</td>\n",
        "      <td> 0.318050</td>\n",
        "      <td> 0.602679</td>\n",
        "      <td> 0.359082</td>\n",
        "      <td> 0.188023</td>\n",
        "      <td> 0.641433</td>\n",
        "      <td> 0.357776</td>\n",
        "      <td> 0.266129</td>\n",
        "      <td> 0.1250</td>\n",
        "      <td> 0.0000</td>\n",
        "      <td> 0.067600</td>\n",
        "      <td> 0.574625</td>\n",
        "    </tr>\n",
        "  </tbody>\n",
        "</table>\n",
        "<p>5 rows \u00d7 16 columns</p>\n",
        "</div>"
       ],
       "metadata": {},
       "output_type": "pyout",
       "prompt_number": 3,
       "text": [
        "   Activity        D1        D2    D3  D4        D5        D6        D7  \\\n",
        "0         1  0.133333  0.772618  0.15   0  0.280199  0.711417  0.182305   \n",
        "1         1  0.033300  0.584210  0.00   0  0.300641  0.622394  0.441048   \n",
        "2         0  0.066700  0.591785  0.10   0  0.185452  0.766298  0.247578   \n",
        "3         0  0.033300  0.662372  0.05   0  0.241394  0.650117  0.328377   \n",
        "4         1  0.033300  0.516704  0.00   0  0.318050  0.602679  0.359082   \n",
        "\n",
        "         D8        D9       D10       D11     D12     D13       D14       D15  \n",
        "0  0.347225  0.729971  0.210315  0.354839  0.0000  0.0000  0.175873  0.501175  \n",
        "1  0.731882  0.680640  0.482437  0.000000  0.1875  0.0000  0.318114  0.565024  \n",
        "2  0.445119  0.829463  0.219611  0.076000  0.0625  0.0323  0.091500  0.520983  \n",
        "3  0.404066  0.721890  0.297515  0.228111  0.1250  0.0000  0.136165  0.565900  \n",
        "4  0.188023  0.641433  0.357776  0.266129  0.1250  0.0000  0.067600  0.574625  \n",
        "\n",
        "[5 rows x 16 columns]"
       ]
      }
     ],
     "prompt_number": 3
    },
    {
     "cell_type": "code",
     "collapsed": false,
     "input": [
      "train.Activity.value_counts().plot(kind='bar')"
     ],
     "language": "python",
     "metadata": {},
     "outputs": [
      {
       "metadata": {},
       "output_type": "pyout",
       "prompt_number": 4,
       "text": [
        "<matplotlib.axes.AxesSubplot at 0x8315d50>"
       ]
      },
      {
       "metadata": {},
       "output_type": "display_data",
       "png": "[encoded data removed]",
       "text": [
        "<matplotlib.figure.Figure at 0x58a99d0>"
       ]
      }
     ],
     "prompt_number": 4
    },
    {
     "cell_type": "code",
     "collapsed": false,
     "input": [
      "test = pandas.read_csv('molecules_test.csv')\n",
      "print 'Data size:', test.shape\n",
      "test.ix[:, :16].head()"
     ],
     "language": "python",
     "metadata": {},
     "outputs": [
      {
       "output_type": "stream",
       "stream": "stdout",
       "text": [
        "Data size: (1126, 1777)\n"
       ]
      },
      {
       "html": [
        "<div style=\"max-height:1000px;max-width:1500px;overflow:auto;\">\n",
        "<table border=\"1\" class=\"dataframe\">\n",
        "  <thead>\n",
        "    <tr style=\"text-align: right;\">\n",
        "      <th></th>\n",
        "      <th>MoleculeId</th>\n",
        "      <th>D1</th>\n",
        "      <th>D2</th>\n",
        "      <th>D3</th>\n",
        "      <th>D4</th>\n",
        "      <th>D5</th>\n",
        "      <th>D6</th>\n",
        "      <th>D7</th>\n",
        "      <th>D8</th>\n",
        "      <th>D9</th>\n",
        "      <th>D10</th>\n",
        "      <th>D11</th>\n",
        "      <th>D12</th>\n",
        "      <th>D13</th>\n",
        "      <th>D14</th>\n",
        "      <th>D15</th>\n",
        "    </tr>\n",
        "  </thead>\n",
        "  <tbody>\n",
        "    <tr>\n",
        "      <th>0</th>\n",
        "      <td> 0</td>\n",
        "      <td> 0.100000</td>\n",
        "      <td> 0.610057</td>\n",
        "      <td> 0.10</td>\n",
        "      <td> 0</td>\n",
        "      <td> 0.268769</td>\n",
        "      <td> 0.737564</td>\n",
        "      <td> 0.250618</td>\n",
        "      <td> 0.460788</td>\n",
        "      <td> 0.836831</td>\n",
        "      <td> 0.164051</td>\n",
        "      <td> 0.354839</td>\n",
        "      <td> 0.1250</td>\n",
        "      <td> 0</td>\n",
        "      <td> 0.097300</td>\n",
        "      <td> 0.515223</td>\n",
        "    </tr>\n",
        "    <tr>\n",
        "      <th>1</th>\n",
        "      <td> 1</td>\n",
        "      <td> 0.266667</td>\n",
        "      <td> 0.597478</td>\n",
        "      <td> 0.00</td>\n",
        "      <td> 0</td>\n",
        "      <td> 0.168919</td>\n",
        "      <td> 0.824017</td>\n",
        "      <td> 0.114270</td>\n",
        "      <td> 0.417728</td>\n",
        "      <td> 0.818279</td>\n",
        "      <td> 0.100000</td>\n",
        "      <td> 0.163772</td>\n",
        "      <td> 0.1875</td>\n",
        "      <td> 0</td>\n",
        "      <td> 0.147914</td>\n",
        "      <td> 0.517464</td>\n",
        "    </tr>\n",
        "    <tr>\n",
        "      <th>2</th>\n",
        "      <td> 2</td>\n",
        "      <td> 0.066700</td>\n",
        "      <td> 0.716148</td>\n",
        "      <td> 0.25</td>\n",
        "      <td> 0</td>\n",
        "      <td> 0.079300</td>\n",
        "      <td> 0.647323</td>\n",
        "      <td> 0.332020</td>\n",
        "      <td> 0.585445</td>\n",
        "      <td> 0.727773</td>\n",
        "      <td> 0.305410</td>\n",
        "      <td> 0.236559</td>\n",
        "      <td> 0.1875</td>\n",
        "      <td> 0</td>\n",
        "      <td> 0.145497</td>\n",
        "      <td> 0.571534</td>\n",
        "    </tr>\n",
        "    <tr>\n",
        "      <th>3</th>\n",
        "      <td> 3</td>\n",
        "      <td> 0.033300</td>\n",
        "      <td> 0.581900</td>\n",
        "      <td> 0.15</td>\n",
        "      <td> 0</td>\n",
        "      <td> 0.216714</td>\n",
        "      <td> 0.708092</td>\n",
        "      <td> 0.229407</td>\n",
        "      <td> 0.447299</td>\n",
        "      <td> 0.733817</td>\n",
        "      <td> 0.248972</td>\n",
        "      <td> 0.118280</td>\n",
        "      <td> 0.1250</td>\n",
        "      <td> 0</td>\n",
        "      <td> 0.082800</td>\n",
        "      <td> 0.487566</td>\n",
        "    </tr>\n",
        "    <tr>\n",
        "      <th>4</th>\n",
        "      <td> 4</td>\n",
        "      <td> 0.066700</td>\n",
        "      <td> 0.575098</td>\n",
        "      <td> 0.05</td>\n",
        "      <td> 0</td>\n",
        "      <td> 0.260300</td>\n",
        "      <td> 0.690115</td>\n",
        "      <td> 0.286828</td>\n",
        "      <td> 0.271995</td>\n",
        "      <td> 0.776990</td>\n",
        "      <td> 0.219008</td>\n",
        "      <td> 0.425806</td>\n",
        "      <td> 0.0625</td>\n",
        "      <td> 0</td>\n",
        "      <td> 0.077000</td>\n",
        "      <td> 0.588413</td>\n",
        "    </tr>\n",
        "  </tbody>\n",
        "</table>\n",
        "<p>5 rows \u00d7 16 columns</p>\n",
        "</div>"
       ],
       "metadata": {},
       "output_type": "pyout",
       "prompt_number": 5,
       "text": [
        "   MoleculeId        D1        D2    D3  D4        D5        D6        D7  \\\n",
        "0           0  0.100000  0.610057  0.10   0  0.268769  0.737564  0.250618   \n",
        "1           1  0.266667  0.597478  0.00   0  0.168919  0.824017  0.114270   \n",
        "2           2  0.066700  0.716148  0.25   0  0.079300  0.647323  0.332020   \n",
        "3           3  0.033300  0.581900  0.15   0  0.216714  0.708092  0.229407   \n",
        "4           4  0.066700  0.575098  0.05   0  0.260300  0.690115  0.286828   \n",
        "\n",
        "         D8        D9       D10       D11     D12  D13       D14       D15  \n",
        "0  0.460788  0.836831  0.164051  0.354839  0.1250    0  0.097300  0.515223  \n",
        "1  0.417728  0.818279  0.100000  0.163772  0.1875    0  0.147914  0.517464  \n",
        "2  0.585445  0.727773  0.305410  0.236559  0.1875    0  0.145497  0.571534  \n",
        "3  0.447299  0.733817  0.248972  0.118280  0.1250    0  0.082800  0.487566  \n",
        "4  0.271995  0.776990  0.219008  0.425806  0.0625    0  0.077000  0.588413  \n",
        "\n",
        "[5 rows x 16 columns]"
       ]
      }
     ],
     "prompt_number": 5
    },
    {
     "cell_type": "heading",
     "level": 2,
     "metadata": {},
     "source": [
      "\u041c\u0430\u0442\u0440\u0438\u0446\u044b \u043f\u0440\u0438\u0437\u043d\u0430\u043a\u043e\u0432 \u0438 \u0432\u0435\u043a\u0442\u043e\u0440 \u043e\u0442\u0432\u0435\u0442\u043e\u0432"
     ]
    },
    {
     "cell_type": "code",
     "collapsed": false,
     "input": [
      "y = train.ix[:, 0].values\n",
      "X = train.ix[:, 1:].values\n",
      "Xt = test.ix[:, 1:].values"
     ],
     "language": "python",
     "metadata": {},
     "outputs": [],
     "prompt_number": 6
    },
    {
     "cell_type": "heading",
     "level": 2,
     "metadata": {},
     "source": [
      "\u0417\u0430\u043f\u0438\u0441\u044c \u043e\u0442\u0432\u0435\u0442\u0430"
     ]
    },
    {
     "cell_type": "markdown",
     "metadata": {},
     "source": [
      "\u0424\u0443\u043d\u043a\u0446\u0438\u044f \u0434\u043b\u044f \u0437\u0430\u043f\u0438\u0441\u0438 \u0432\u0435\u043a\u0442\u043e\u0440\u0430 \u043e\u0442\u0432\u0435\u0442\u043e\u0432 \u043a\u043b\u0430\u0441\u0441\u0438\u0444\u0438\u043a\u0430\u0446\u0438\u0438 `Xt`."
     ]
    },
    {
     "cell_type": "code",
     "collapsed": false,
     "input": [
      "def save_predictions(predictions, filename):\n",
      "    pandas.Series(data=predictions, name='PredictedProbability', index=test.MoleculeId).to_csv(filename, header=True)    "
     ],
     "language": "python",
     "metadata": {},
     "outputs": [],
     "prompt_number": 7
    },
    {
     "cell_type": "markdown",
     "metadata": {},
     "source": [
      "\u0412\u0441\u043f\u043e\u043c\u043e\u0433\u0430\u0442\u0435\u043b\u044c\u043d\u0430\u044f \u0444\u0443\u043d\u043a\u0446\u0438\u044f, \u043e\u0431\u0443\u0447\u0430\u0435\u0442 \u043c\u043e\u0434\u0435\u043b\u044c \u0441 \u0437\u0430\u0434\u0430\u043d\u043d\u044b\u043c\u0438 \u043f\u0430\u0440\u0430\u043c\u0435\u0442\u0440\u0430\u043c\u0438 \u043d\u0430 \u043e\u0431\u0443\u0447\u0430\u044e\u0449\u0435\u0439 \u0432\u044b\u0431\u043e\u0440\u043a\u0435 `X`. \u0417\u0430\u043f\u0438\u0441\u044b\u0432\u0430\u0435\u0442 \u0432 \u0444\u0430\u0439\u043b \u0432\u0435\u043a\u0442\u043e\u0440 \u043e\u0442\u0432\u0435\u0442\u043e\u0432 \u043a\u043b\u0430\u0441\u0441\u0438\u0444\u0438\u043a\u0430\u0446\u0438\u0438 `Xt`, \u043f\u043e\u043b\u0443\u0447\u0435\u043d\u043d\u044b\u0435 \u0441 \u0438\u0441\u043f\u043e\u043b\u044c\u0437\u043e\u0432\u0430\u043d\u0438\u0435\u043c \u043e\u0431\u0443\u0447\u0435\u043d\u043d\u043e\u0439 \u043c\u043e\u0434\u0435\u043b\u0438."
     ]
    },
    {
     "cell_type": "code",
     "collapsed": false,
     "input": [
      "def save_model_predictions(model, filename):\n",
      "    predictions = model.fit(X, y).predict_proba(Xt)\n",
      "    if len(predictions.shape) > 1:\n",
      "        predictions = predictions[:, 1]\n",
      "    save_predictions(predictions, filename)"
     ],
     "language": "python",
     "metadata": {},
     "outputs": [],
     "prompt_number": 8
    },
    {
     "cell_type": "heading",
     "level": 2,
     "metadata": {},
     "source": [
      "\u041e\u0446\u0435\u043d\u043a\u0430 \u043a\u0430\u0447\u0435\u0441\u0442\u0432\u0430"
     ]
    },
    {
     "cell_type": "markdown",
     "metadata": {},
     "source": [
      "\u0421\u043e\u0437\u0434\u0430\u0434\u0438\u043c \u0440\u0430\u0437\u0431\u0438\u0435\u043d\u0438\u044f \u0434\u043b\u044f \u043a\u0440\u043e\u0441\u0441-\u0432\u0430\u043b\u0438\u0434\u0430\u0446\u0438\u0438.\n",
      "[\u041f\u043e\u0434\u0440\u043e\u0431\u043d\u0435\u0435 \u043f\u0440\u043e \u043a\u0440\u043e\u0441\u0441-\u0432\u0430\u043b\u0438\u0434\u0430\u0446\u0438\u044e \u0432 sklearn](http://scikit-learn.org/stable/modules/cross_validation.html)."
     ]
    },
    {
     "cell_type": "code",
     "collapsed": false,
     "input": [
      "from sklearn.cross_validation import KFold, cross_val_score\n",
      "from sklearn.metrics import log_loss, make_scorer\n",
      "\n",
      "cv = KFold(X.shape[0], n_folds=5, shuffle=True, random_state=123)\n",
      "log_loss_scorer = make_scorer(log_loss, greater_is_better=False, needs_proba=True)"
     ],
     "language": "python",
     "metadata": {},
     "outputs": [],
     "prompt_number": 9
    },
    {
     "cell_type": "markdown",
     "metadata": {},
     "source": [
      "\u041e\u043f\u0440\u0435\u0434\u0435\u043b\u0438\u043c \u0444\u0443\u043d\u043a\u0446\u0438\u044e `check_model`, \u043f\u0440\u0438 \u043f\u043e\u043c\u043e\u0449\u0438 \u043a\u043e\u0442\u043e\u0440\u043e\u0439 \u0431\u0443\u0434\u0435\u043c \u0437\u0430\u043f\u0438\u0441\u044b\u0432\u0430\u0442\u044c \u0440\u0435\u0437\u0443\u043b\u044c\u0442\u0430\u0442\u044b \u043a\u0440\u043e\u0441\u0441-\u0432\u0430\u043b\u0438\u0434\u0430\u0446\u0438\u0438 \u043c\u043e\u0434\u0435\u043b\u0438 \u0434\u043b\u044f \u0434\u0430\u043b\u044c\u043d\u0435\u0439\u0448\u0435\u0433\u043e \u0441\u0440\u0430\u0432\u043d\u0435\u043d\u0438\u044f."
     ]
    },
    {
     "cell_type": "code",
     "collapsed": false,
     "input": [
      "candidate_classifiers = []\n",
      "\n",
      "def check_model(name, model):\n",
      "    scores = cross_val_score(model, X, y, scoring=log_loss_scorer, cv=cv)\n",
      "    log_loss_cv = [-score for score in scores]\n",
      "    description = {\n",
      "        'log_loss_cv': log_loss_cv,\n",
      "        'model': model,\n",
      "    }\n",
      "    candidate_classifiers.append((name, description))\n",
      "    print 'Model `{name}`: log-loss {mean_log_loss:.6f} \u00b1{std_log_loss:.6f}'.format(\n",
      "        name=name, mean_log_loss=mean(log_loss_cv), std_log_loss=std(log_loss_cv)\n",
      "    )"
     ],
     "language": "python",
     "metadata": {},
     "outputs": [],
     "prompt_number": 10
    },
    {
     "cell_type": "heading",
     "level": 2,
     "metadata": {},
     "source": [
      "\u0410\u043b\u0433\u043e\u0440\u0438\u0442\u043c: \u043a\u043e\u043d\u0441\u0442\u0430\u043d\u0442\u0430"
     ]
    },
    {
     "cell_type": "markdown",
     "metadata": {},
     "source": [
      "**\u0423\u0442\u0432\u0435\u0440\u0436\u0434\u0435\u043d\u0438\u0435.** \u0421\u0440\u0435\u0434\u043d\u0435\u0435 \u043c\u0435\u0442\u043e\u043a \u043a\u043b\u0430\u0441\u0441\u0430 (0/1) \n",
      "$$\\hat{y} = \\frac{1}{N}\\sum_{n}y_n$$\n",
      "\u2014 \u043e\u043f\u0442\u0438\u043c\u0430\u043b\u044c\u043d\u044b\u0439 \u043a\u043e\u043d\u0441\u0442\u0430\u043d\u0442\u043d\u044b\u0439 \u043e\u0442\u0432\u0435\u0442, \u0441 \u0442\u043e\u0447\u043a\u0438 \u0437\u0440\u0435\u043d\u0438\u044f log-loss.\n",
      "\n",
      "\u0421\u0444\u043e\u0440\u043c\u0443\u043b\u0438\u0440\u0443\u0435\u043c \u043a\u043b\u0430\u0441\u0441\u0438\u0444\u0438\u043a\u0430\u0442\u043e\u0440, \u043a\u043e\u0442\u043e\u0440\u044b\u0439 \u043e\u0431\u0443\u0447\u0430\u0435\u0442\u0441\u044f \u043e\u0442\u0432\u0435\u0447\u0430\u0442\u044c \u0441\u0440\u0435\u0434\u043d\u0438\u043c \u0437\u043d\u0430\u0447\u0435\u043d\u0438\u0435\u043c \u043c\u0435\u0442\u043e\u043a \u043a\u043b\u0430\u0441\u0441\u0430."
     ]
    },
    {
     "cell_type": "code",
     "collapsed": false,
     "input": [
      "from sklearn.base import BaseEstimator, ClassifierMixin\n",
      "\n",
      "class OptimalLogLossConstant(BaseEstimator, ClassifierMixin):\n",
      "    def fit(self, X, y):\n",
      "        self.constant_ = y.mean()\n",
      "        return self\n",
      "    def predict(self, X):\n",
      "        pass\n",
      "    def predict_proba(self, X):\n",
      "        return c_[repeat(1-self.constant_, X.shape[0]), repeat(self.constant_, X.shape[0])]"
     ],
     "language": "python",
     "metadata": {},
     "outputs": [],
     "prompt_number": 11
    },
    {
     "cell_type": "code",
     "collapsed": false,
     "input": [
      "model_constant = OptimalLogLossConstant()\n",
      "check_model('constant', model_constant)"
     ],
     "language": "python",
     "metadata": {},
     "outputs": [
      {
       "output_type": "stream",
       "stream": "stdout",
       "text": [
        "Model `constant`: log-loss 0.690221 \u00b10.001736\n"
       ]
      }
     ],
     "prompt_number": 12
    },
    {
     "cell_type": "code",
     "collapsed": false,
     "input": [
      "save_model_predictions(model_constant, 'benchmark_constant.csv')"
     ],
     "language": "python",
     "metadata": {},
     "outputs": [],
     "prompt_number": 13
    },
    {
     "cell_type": "heading",
     "level": 2,
     "metadata": {},
     "source": [
      "\u0410\u043b\u0433\u043e\u0440\u0438\u0442\u043c: SVM"
     ]
    },
    {
     "cell_type": "code",
     "collapsed": false,
     "input": [
      "from sklearn import svm\n",
      "model_svc = svm.SVC(probability=True)\n",
      "check_model('svm', model_svc)"
     ],
     "language": "python",
     "metadata": {},
     "outputs": [
      {
       "output_type": "stream",
       "stream": "stdout",
       "text": [
        "Model `svm`: log-loss 0.553867 \u00b10.014292\n"
       ]
      }
     ],
     "prompt_number": 14
    },
    {
     "cell_type": "code",
     "collapsed": false,
     "input": [
      "save_model_predictions(model_svc, 'benchmark_svm.csv')"
     ],
     "language": "python",
     "metadata": {},
     "outputs": [],
     "prompt_number": 15
    },
    {
     "cell_type": "heading",
     "level": 2,
     "metadata": {},
     "source": [
      "\u0410\u043b\u0433\u043e\u0440\u0438\u0442\u043c: Random Forest"
     ]
    },
    {
     "cell_type": "heading",
     "level": 4,
     "metadata": {},
     "source": [
      "\u0411\u0430\u0437\u043e\u0432\u0430\u044f \u0440\u0435\u0430\u043b\u0438\u0437\u0430\u0446\u0438\u044f, \u043a\u043e\u0442\u043e\u0440\u0430\u044f \u0431\u044b\u043b\u0430 \u0437\u0434\u0435\u0441\u044c \u0438\u0437\u043d\u0430\u0447\u0430\u043b\u044c\u043d\u043e."
     ]
    },
    {
     "cell_type": "code",
     "collapsed": false,
     "input": [
      "from sklearn.ensemble import RandomForestClassifier\n",
      "model_rf = RandomForestClassifier(n_estimators=100)\n",
      "check_model('rf', model_rf)"
     ],
     "language": "python",
     "metadata": {},
     "outputs": [
      {
       "output_type": "stream",
       "stream": "stdout",
       "text": [
        "Model `rf`: log-loss 0.470836 \u00b10.018261\n"
       ]
      }
     ],
     "prompt_number": 16
    },
    {
     "cell_type": "code",
     "collapsed": false,
     "input": [
      "save_model_predictions(model_rf, 'benchmark_rf.csv')"
     ],
     "language": "python",
     "metadata": {},
     "outputs": [],
     "prompt_number": 19
    },
    {
     "cell_type": "heading",
     "level": 4,
     "metadata": {},
     "source": [
      "\u0421\u043d\u0430\u0447\u0430\u043b\u0430 \u0431\u044b\u043b\u043e \u043f\u043e\u043f\u0440\u043e\u0431\u043e\u0432\u0430\u043d\u043e \u0443\u0432\u0435\u043b\u0438\u0447\u0435\u043d\u0438\u0435 \u043a\u043e\u043b\u0438\u0447\u0435\u0441\u0442\u0432\u0430 \u0434\u0435\u0440\u0435\u0432\u044c\u0435\u0432, \u0447\u0442\u043e \u0434\u0430\u043b\u043e \u043d\u0435\u0431\u043e\u043b\u044c\u0448\u043e\u0435 \u0443\u043b\u0443\u0447\u0448\u0435\u043d\u0438\u0435 \u0432 \u0441\u0438\u0441\u0442\u0435\u043c\u0435 \u043f\u043e \u0441\u0440\u0430\u0432\u043d\u0435\u043d\u0438\u044e \u0441 \u0431\u0430\u0437\u043e\u0432\u043e\u0439 \u0440\u0435\u0430\u043b\u0438\u0437\u0430\u0446\u0438\u0435\u0439, \u0438 \u0434\u043e\u043b\u0436\u043d\u043e \u0431\u044b\u043b\u043e \u043f\u043e \u043b\u043e\u0433\u0438\u043a\u0435 \u0443\u043c\u0435\u043d\u044c\u0448\u0438\u0442\u044c \u0440\u0430\u0437\u0431\u043e\u0440\u0441 \u0440\u0435\u0437\u0443\u043b\u044c\u0442\u0430\u0442\u043e\u0432 \u043e\u0431\u0443\u0447\u0435\u043d\u0438\u0438. \u0412\u043f\u043e\u0441\u043b\u0435\u0434\u0441\u0442\u0432\u0438\u0438 \u043f\u0440\u0438 \u0431\u0430\u0437\u043e\u0432\u043e\u043c \u0440\u0430\u0441\u0447\u0435\u0442\u0435 \u0438\u0441\u043f\u043e\u043b\u044c\u0437\u043e\u0432\u0430\u043b\u043e\u0441\u044c 500 \u0434\u0435\u0440\u0435\u0432\u044c\u0435\u0432, \u043e\u043f\u0442\u0438\u043c\u0430\u043b\u044c\u043d\u044b\u0435 \u043f\u043e \u043e\u0446\u0435\u043d\u043a\u0435 \u0433\u0438\u043f\u043e\u0442\u0435\u0437\u044b \u043f\u0440\u043e\u0432\u0435\u0440\u044f\u043b\u0438\u0441\u044c \u0441\u0434\u0430\u0447\u0435\u0439 \u0432 \u0441\u0438\u0441\u0442\u0435\u043c\u0443, \u0442\u0430\u043a \u043a\u0430\u043a \u043f\u043e\u0433\u0440\u0435\u0448\u043d\u043e\u0441\u0442\u044c \u043e\u0446\u0435\u043d\u043a\u0438 \u043e\u0448\u0438\u0431\u043a\u0438 \u0431\u043e\u043b\u044c\u0448\u0435, \u0447\u0435\u043c \u0438\u0437\u043c\u0435\u043d\u0435\u043d\u0438\u0435 \u043e\u0446\u0435\u043d\u043a\u0438 \u043f\u0440\u0438 \u0438\u0441\u043f\u043e\u043b\u044c\u0437\u043e\u0432\u0430\u043d\u0438\u0438 \u0440\u0430\u0437\u043d\u044b\u0445 \u043c\u0435\u0442\u043e\u0434\u043e\u0432."
     ]
    },
    {
     "cell_type": "code",
     "collapsed": false,
     "input": [
      "from sklearn.ensemble import RandomForestClassifier\n",
      "model_rf = RandomForestClassifier(n_estimators=500)\n",
      "check_model('rf_500', model_rf)"
     ],
     "language": "python",
     "metadata": {},
     "outputs": [
      {
       "output_type": "stream",
       "stream": "stdout",
       "text": [
        "Model `rf_500`: log-loss 0.470131 \u00b10.017237\n"
       ]
      }
     ],
     "prompt_number": 20
    },
    {
     "cell_type": "code",
     "collapsed": false,
     "input": [
      "save_model_predictions(model_rf, 'benchmark_rf500.csv')"
     ],
     "language": "python",
     "metadata": {},
     "outputs": [],
     "prompt_number": 21
    },
    {
     "cell_type": "heading",
     "level": 4,
     "metadata": {},
     "source": [
      "\u0414\u0430\u043b\u0435\u0435 \u0431\u044b\u043b\u043e \u043f\u043e\u043f\u0440\u043e\u0431\u043e\u0432\u0430\u043d\u043e \u043e\u0433\u0440\u0430\u043d\u0438\u0447\u0435\u043d\u0438\u0435 \u043c\u0430\u043a\u0441\u0438\u043c\u0430\u043b\u044c\u043d\u043e\u0433\u043e \u043a\u043e\u043b\u0438\u0447\u0435\u0441\u0442\u0432\u0430 \u043f\u0440\u0438\u0437\u043d\u0430\u043a\u043e\u0432, \u0443\u0447\u0430\u0441\u0442\u0432\u0443\u044e\u0449\u0438\u0445 \u0432 \u0434\u0435\u043b\u0435\u043d\u0438\u0438 \u0443\u0437\u043b\u0430 (\u043d\u0430\u043f\u0440\u0438\u043c\u0435\u0440 10% \u043e\u0442 \u0432\u0441\u0435\u0445 \u043f\u0440\u0438\u0437\u043d\u0430\u043a\u043e\u0432), \u044d\u0442\u043e \u0441\u0440\u0430\u0437\u0443 \u0434\u0430\u043b\u043e \u043f\u0440\u0438\u0440\u043e\u0441\u0442 \u043a\u0430\u0447\u0435\u0441\u0442\u0432\u0430, \u0434\u0430\u0432\u0448\u0438\u0439 \u043e\u0431\u043e\u0433\u043d\u0430\u0442\u044c baseline \u0432 \u043f\u0443\u0431\u043b\u0438\u0447\u043d\u043e\u043c \u043b\u0438\u0434\u0435\u0440\u0431\u043e\u0440\u0434\u0435. \u0422\u0430\u043a\u0436\u0435 \u043f\u043e \u043f\u0440\u0438\u0447\u0438\u043d\u0435 \u0431\u043e\u043b\u044c\u0448\u043e\u0433\u043e \u043a\u043e\u043b\u0438\u0447\u0435\u0441\u0442\u0432\u0430 \u0434\u0435\u0440\u0435\u0432\u044c\u0435\u0432 \u0431\u044b\u043b\u043e \u0432\u044b\u0441\u0442\u0430\u0432\u043b\u0435\u043d\u043e n_jobs = 4, \u0447\u0442\u043e\u0431\u044b \u0443\u043c\u0435\u043d\u044c\u0448\u0438\u0442\u044c \u0432\u0440\u0435\u043c\u044f \u043e\u0436\u0438\u0434\u0430\u043d\u0438\u044f \u043a\u0430\u0436\u0434\u043e\u0433\u043e \u043e\u0431\u0443\u0447\u0435\u043d\u0438\u044f \u0438 \u043f\u0440\u043e\u0432\u0435\u0440\u043a\u0438."
     ]
    },
    {
     "cell_type": "code",
     "collapsed": false,
     "input": [
      "from sklearn.ensemble import RandomForestClassifier\n",
      "model_rf = RandomForestClassifier(n_estimators=500, max_features = 0.1, n_jobs = 4)\n",
      "check_model('rf_100', model_rf)"
     ],
     "language": "python",
     "metadata": {},
     "outputs": [
      {
       "output_type": "stream",
       "stream": "stdout",
       "text": [
        "Model `rf_100`: log-loss 0.457519 \u00b10.020730\n"
       ]
      }
     ],
     "prompt_number": 22
    },
    {
     "cell_type": "code",
     "collapsed": false,
     "input": [
      "save_model_predictions(model_rf, 'benchmark_rf500_MF0.1.csv')"
     ],
     "language": "python",
     "metadata": {},
     "outputs": [],
     "prompt_number": 23
    },
    {
     "cell_type": "heading",
     "level": 4,
     "metadata": {},
     "source": [
      "\u0411\u044b\u043b\u043e \u0440\u0435\u0448\u0435\u043d\u043e \u043f\u0440\u043e\u0438\u0437\u0432\u0435\u0441\u0442\u0438 \u043f\u043e\u0434\u0431\u043e\u0440 \u043a\u043e\u043b\u0438\u0447\u0435\u0441\u0442\u0432\u0430 \u043f\u0440\u0438\u0437\u043d\u0430\u043a\u043e\u0432, \u043f\u043e \u043a\u043e\u0442\u043e\u0440\u044b\u043c \u043d\u0430\u0434\u043e \u0434\u0435\u043b\u0438\u0442\u044c \u043e\u0431\u044a\u0435\u043a\u0442\u044b \u0432 \u0443\u0437\u043b\u0430\u0445 \u0434\u0435\u0440\u0435\u0432\u044c\u0435\u0432. \u0422\u0430\u043a\u0436\u0435 \u0431\u044b\u043b\u043e \u043f\u0440\u043e\u0432\u0435\u0440\u0435\u043d\u043e, \u0434\u0430\u0435\u0442 \u043b\u0438 \u0438\u0437\u043c\u0435\u043d\u0435\u043d\u0438\u0435 \u043a\u0430\u0447\u0435\u0441\u0442\u0432\u0430 \u043e\u0433\u0440\u0430\u043d\u0438\u0447\u0435\u043d\u0438\u0435 \u043d\u0430 \u043c\u0438\u043d\u0438\u043c\u0430\u043b\u044c\u043d\u043e\u0435 \u043a\u043e\u043b\u0438\u0447\u0435\u0441\u0442\u0432\u043e \u043e\u0431\u044a\u0435\u043a\u0442\u043e\u0432, \u043d\u0435\u043e\u0431\u0445\u043e\u0434\u0438\u043c\u043e\u0435 \u043f\u0440\u0438 \u0434\u0435\u043b\u0435\u043d\u0438\u044f \u0443\u0437\u043b\u0430."
     ]
    },
    {
     "cell_type": "code",
     "collapsed": false,
     "input": [
      "features = [(0.05, 'MF_00.5'), (0.1, 'MF_0.1'), (0.15, 'MF_0.15'), (0.2, 'MF_0.2'), (0.3, 'MF_0.3')]\n",
      "features1 = [(5, 'mss5'), (15, 'mss15'), (50, 'mss50')]\n",
      "\n",
      "for feature_n, name in features:\n",
      "    from sklearn.ensemble import RandomForestClassifier\n",
      "    model_rf = RandomForestClassifier(n_estimators=500, max_features = feature_n, n_jobs = 4)\n",
      "    check_model(name, model_rf)\n",
      "\n",
      "for mss, name in features1:\n",
      "    from sklearn.ensemble import RandomForestClassifier\n",
      "    model_rf = RandomForestClassifier(n_estimators=500, max_features = 0.2, n_jobs = 4, min_samples_split = mss)\n",
      "    check_model(name, model_rf)"
     ],
     "language": "python",
     "metadata": {},
     "outputs": [
      {
       "output_type": "stream",
       "stream": "stdout",
       "text": [
        "Model `MF_00.5`: log-loss 0.463354 \u00b10.018171\n",
        "Model `MF_0.1`: log-loss 0.459597 \u00b10.020751"
       ]
      },
      {
       "output_type": "stream",
       "stream": "stdout",
       "text": [
        "\n",
        "Model `MF_0.15`: log-loss 0.456541 \u00b10.021783"
       ]
      },
      {
       "output_type": "stream",
       "stream": "stdout",
       "text": [
        "\n",
        "Model `MF_0.2`: log-loss 0.457814 \u00b10.022222"
       ]
      },
      {
       "output_type": "stream",
       "stream": "stdout",
       "text": [
        "\n",
        "Model `MF_0.3`: log-loss 0.457119 \u00b10.025028"
       ]
      },
      {
       "output_type": "stream",
       "stream": "stdout",
       "text": [
        "\n",
        "Model `mss5`: log-loss 0.458038 \u00b10.023618"
       ]
      },
      {
       "output_type": "stream",
       "stream": "stdout",
       "text": [
        "\n",
        "Model `mss15`: log-loss 0.465743 \u00b10.022731"
       ]
      },
      {
       "output_type": "stream",
       "stream": "stdout",
       "text": [
        "\n",
        "Model `mss50`: log-loss 0.482141 \u00b10.020625"
       ]
      },
      {
       "output_type": "stream",
       "stream": "stdout",
       "text": [
        "\n"
       ]
      }
     ],
     "prompt_number": 24
    },
    {
     "cell_type": "heading",
     "level": 4,
     "metadata": {},
     "source": [
      "\u0423\u0432\u0435\u043b\u0438\u0447\u0438\u0432\u0430\u0442\u044c \u043a\u043e\u043b\u0438\u0447\u0435\u0441\u0442\u0432\u043e \u0442\u043e\u0447\u0435\u043a \u0432 \u043b\u0438\u0441\u0442\u0435 \u0441\u043c\u044b\u0441\u043b\u0430 \u043e\u0436\u0438\u0434\u0430\u0435\u043c\u043e \u043d\u0435\u0442, \u043a\u0430\u0447\u0435\u0441\u0442\u0432\u043e \u0443\u0445\u0443\u0434\u0448\u0430\u0435\u0442\u0441\u044f. \u041e\u0433\u0440\u0430\u043d\u0438\u0447\u0438\u0432\u0430\u0442\u044c \u043a\u043e\u043b\u0438\u0447\u0435\u0441\u0442\u0432\u043e \u043f\u0440\u0438\u0437\u043d\u0430\u043a\u043e\u0432, \u043f\u043e \u043a\u043e\u0442\u043e\u0440\u044b\u043c \u0434\u0435\u043b\u0438\u0442\u0441\u044f \u0443\u0437\u0435\u043b - \u0435\u0441\u0442\u044c, \u043d\u043e \u043d\u0435 \u0441\u043b\u0438\u0448\u043a\u043e\u043c \u0441\u0438\u043b\u044c\u043d\u043e. \u0417\u043d\u0430\u0447\u0435\u043d\u0438\u0435 max_features 0.1, 0.15 \u0438 0.2 \u0431\u044b\u043b\u0438 \u043f\u0440\u043e\u0432\u0435\u0440\u0435\u043d\u044b \u0432 \u0441\u0438\u0441\u0442\u0435\u043c\u0435 \u043f\u043e \u043f\u0443\u0431\u043b\u0438\u0447\u043d\u043e\u0439 \u043e\u0446\u0435\u043d\u043a\u0435 (\u043f\u043e\u0447\u0435\u043c\u0443 \u0431\u044b\u043b \u043d\u0435 \u043f\u0440\u043e\u0432\u0435\u0440\u0435\u043d 0.3 \u0441\u0435\u0439\u0447\u0430\u0441 \u0441\u0430\u043c\u0430 \u043d\u0435 \u043f\u043e\u043d\u0438\u043c\u0430\u044e), \u0432 \u043a\u0430\u0447\u0435\u0441\u0442\u0432\u0435 \u0438\u0442\u043e\u0433\u043e\u0432\u043e\u0433\u043e \u0431\u044b\u043b \u0432\u044b\u0431\u0440\u0430\u043d 0.2."
     ]
    },
    {
     "cell_type": "code",
     "collapsed": false,
     "input": [
      "from sklearn.ensemble import RandomForestClassifier\n",
      "model_rf = RandomForestClassifier(n_estimators=700, max_features = 0.2, n_jobs = 4)\n",
      "check_model('rf_700_MF0.2', model_rf)\n",
      "\n",
      "save_model_predictions(model_rf, 'benchmark_rf700_MF0.2.csv')"
     ],
     "language": "python",
     "metadata": {},
     "outputs": [
      {
       "output_type": "stream",
       "stream": "stdout",
       "text": [
        "Model `rf_700_MF0.2`: log-loss 0.456277 \u00b10.022719\n"
       ]
      }
     ],
     "prompt_number": 28
    },
    {
     "cell_type": "heading",
     "level": 4,
     "metadata": {},
     "source": [
      "\u0421\u043c\u0435\u043d\u0430 \u043a\u0440\u0438\u0442\u0435\u0440\u0438\u044f \u0434\u0435\u043b\u0435\u043d\u0438\u044f \u0442\u043e\u0447\u0435\u043a \u0432 \u0432\u0435\u0440\u0448\u0438\u043d\u0435 \u043d\u0430 \"entropy\" \u0442\u043e\u0436\u0435 \u0434\u0430\u0435\u0442 \u043d\u0435\u0431\u043e\u043b\u044c\u0448\u043e\u0435 \u0443\u043b\u0443\u0447\u0448\u0435\u043d\u0438\u0435 \u0440\u0435\u0437\u0443\u043b\u044c\u0442\u0430\u0442\u0430. \u041f\u0440\u0438 \u0444\u0438\u043a\u0441\u0438\u0440\u043e\u0432\u0430\u043d\u043d\u044b\u0445 \u043f\u0430\u0440\u0430\u043c\u0435\u0442\u0440\u0430\u0445 max_features = 0.2, criterion = \"entropy\" \u0431\u044b\u043b \u043f\u0440\u043e\u0438\u0437\u0432\u0435\u0434\u0435\u043d \u043f\u043e\u0434\u0431\u043e\u0440 \u043a\u043e\u043b\u0438\u0447\u0435\u0441\u0442\u0432\u0430 \u0434\u0435\u0440\u0435\u0432\u044c\u0435\u0432 300, 500, 700 \u0438\u043b\u0438 1000. "
     ]
    },
    {
     "cell_type": "code",
     "collapsed": false,
     "input": [
      "from sklearn.ensemble import RandomForestClassifier\n",
      "model_rf = RandomForestClassifier(n_estimators=700, max_features = 0.2, n_jobs = 4, criterion = \"entropy\")\n",
      "check_model('rf_700_MF0.2_entropy', model_rf)"
     ],
     "language": "python",
     "metadata": {},
     "outputs": [
      {
       "output_type": "stream",
       "stream": "stdout",
       "text": [
        "Model `rf_700_MF0.2_entropy`: log-loss 0.452575 \u00b10.023523\n"
       ]
      }
     ],
     "prompt_number": 30
    },
    {
     "cell_type": "code",
     "collapsed": false,
     "input": [
      "save_model_predictions(model_rf, 'benchmark_rf700_MF0.2_entropy.csv')"
     ],
     "language": "python",
     "metadata": {},
     "outputs": [],
     "prompt_number": 31
    },
    {
     "cell_type": "heading",
     "level": 4,
     "metadata": {},
     "source": [
      "\u041f\u043e \u0440\u0435\u0437\u0443\u043b\u044c\u0442\u0430\u0442\u0443 \u0432 \u0441\u0438\u0441\u0442\u0435\u043c\u0435 \u0431\u044b\u043b \u043e\u0441\u0442\u0430\u0432\u043b\u0435\u043d \u0432 \u043a\u0430\u0447\u0435\u0441\u0442\u0432\u0435 \u0432\u044b\u0431\u0440\u0430\u043d\u043d\u043e\u0433\u043e \u0440\u0435\u0437\u0443\u043b\u044c\u0442\u0430\u0442 \u043c\u043e\u0434\u0435\u043b\u0438 \u0441 700 \u0434\u0435\u0440\u0435\u0432\u044c\u044f\u043c\u0438, 20% \u043f\u0440\u0438\u0437\u043d\u0430\u043a\u043e\u0432 \u043f\u0440\u0438 \u0434\u0435\u043b\u0435\u043d\u0438\u0438 \u043e\u0431\u044a\u0435\u043a\u0442\u043e\u0432 \u0432 \u0443\u0437\u043b\u0435, \u0441 \u0434\u0435\u043b\u0435\u043d\u0438\u0435\u043c \u0432 \u0443\u0437\u043b\u0435 \u043f\u043e \u043f\u0440\u0438\u0440\u043e\u0441\u0442\u0443 \u0438\u043d\u0444\u043e\u0440\u043c\u0430\u0446\u0438\u0438, \u043d\u0430 \u043a\u043e\u0442\u043e\u0440\u043e\u043c \u043f\u043e\u043b\u0443\u0447\u0430\u043b\u0441\u044f \u043b\u0443\u0447\u0448\u0438\u0439 \u0440\u0435\u0437\u0443\u043b\u044c\u0442\u0430\u0442 \u043f\u043e \u043f\u0443\u0431\u043b\u0438\u0447\u043d\u043e\u0439 \u0447\u0430\u0441\u0442\u0438 \u0442\u0435\u0441\u0442\u0430."
     ]
    },
    {
     "cell_type": "heading",
     "level": 2,
     "metadata": {},
     "source": [
      "\u0421\u0440\u0430\u0432\u043d\u0435\u043d\u0438\u0435 \u0430\u043b\u0433\u043e\u0440\u0438\u0442\u043c\u043e\u0432"
     ]
    },
    {
     "cell_type": "code",
     "collapsed": false,
     "input": [
      "fig, axs = subplots(1, 2, figsize=(16, 4))\n",
      "for ax in axs:\n",
      "    ax.set_xticks(arange(len(candidate_classifiers)))\n",
      "    ax.set_xticklabels([name for name, _ in candidate_classifiers])\n",
      "    ax.grid(True)\n",
      "for i, (name, description) in enumerate(candidate_classifiers):\n",
      "    log_loss_cv = description['log_loss_cv']\n",
      "    axs[0].scatter(len(log_loss_cv)*[i], log_loss_cv)\n",
      "_ = axs[1].boxplot([description['log_loss_cv'] for name, description in candidate_classifiers])"
     ],
     "language": "python",
     "metadata": {},
     "outputs": [
      {
       "metadata": {},
       "output_type": "display_data",
       "png": "[encoded data removed]",
       "text": [
        "<matplotlib.figure.Figure at 0x7c12a50>"
       ]
      }
     ],
     "prompt_number": 32
    },
    {
     "cell_type": "code",
     "collapsed": false,
     "input": [],
     "language": "python",
     "metadata": {},
     "outputs": []
    }
   ],
   "metadata": {}
  }
 ]
}