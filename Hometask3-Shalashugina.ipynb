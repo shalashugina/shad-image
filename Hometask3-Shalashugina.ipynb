{
 "metadata": {
  "name": ""
 },
 "nbformat": 3,
 "nbformat_minor": 0,
 "worksheets": [
  {
   "cells": [
    {
     "cell_type": "heading",
     "level": 2,
     "metadata": {},
     "source": [
      "\u0414\u043e\u043c\u0430\u0448\u043d\u044f\u044f \u0440\u0430\u0431\u043e\u0442\u0430 \u21163. \u0428\u0430\u043b\u0430\u0448\u0443\u0433\u0438\u043d\u043e\u0439 \u0415\u043b\u0435\u043d\u044b (\u0437\u0430\u043e\u0447\u043d\u043e\u0435-CS)."
     ]
    },
    {
     "cell_type": "code",
     "collapsed": false,
     "input": [
      "import nltk\n",
      "import sys"
     ],
     "language": "python",
     "metadata": {},
     "outputs": [],
     "prompt_number": 2
    },
    {
     "cell_type": "heading",
     "level": 4,
     "metadata": {},
     "source": [
      "\u0417\u0430\u0434\u0430\u0435\u043c \u0433\u0440\u0430\u043c\u043c\u0430\u0442\u0438\u043a\u0443."
     ]
    },
    {
     "cell_type": "code",
     "collapsed": false,
     "input": [
      "grammar = '''\n",
      "   % start S\n",
      "\n",
      "    S -> NPP[Gend=?g, Pers=?p, Num=?n] VP[Pers=?p, Num=?n, Gend_Subj=?g, Pers_Subj=?p, Num_Subj=?n]\n",
      "        \n",
      "    \n",
      "    NP[Mod='0', Num=?n, Pers=?p] -> D[Num=?n, First=?f] N[Num=?n, Pers=?p, First=?f]\n",
      "    NP[Mod='0', Num='pl'] -> N[Num='pl']\n",
      "    NP[Gend_Subj=?g, Pers_Subj=?p, Num_Subj=?n, Mod='0'] -> PPR[Gend_Subj=?g, Pers_Subj=?p, Num_Subj=?n] N[]\n",
      "    NP[Pers=?p, Num=?n, Gend=?g, Mod='0'] -> NN[Pers=?p, Num=?n, Gend=?g]\n",
      "    \n",
      "    PP[Pers=?p, Num=?n, Gend_Subj=?g1, Pers_Subj=?p1, Num_Subj=?n1] -> P NP[Pers=?p, Num=?n, Gend_Subj=?g1, Pers_Subj=?p1, Num_Subj=?n1]\n",
      "    \n",
      "    NPP[Gend=?g, Pers=?p, Num=?n] -> NP[Gend=?g, Pers=?p, Num=?n]\n",
      "    \n",
      "    \n",
      "    VP[Pers=?p, Num=?n, Mod='0'] -> V[Pers=?p, Num=?n, Val='1']\n",
      "    VP[Pers=?p, Num=?n, Mod='0'] -> V[Pers=?p, Num=?n, Val='2', Be='1'] ADJ\n",
      "    VP[Pers=?p, Num=?n, Mod='0', Gend_Subj=?g1, Pers_Subj=?p1, Num_Subj=?n1] -> \\\n",
      "                        V[Pers=?p, Num=?n, Val='2'] \\\n",
      "                        NP[Gend_Subj=?g1, Pers_Subj=?p1, Num_Subj=?n1]    \n",
      "    VP[Pers=?p, Num=?n, Mod='0', Gend_Subj=?g1, Pers_Subj=?p1, Num_Subj=?n1] -> \\\n",
      "                        V[Pers=?p, Num=?n, Val='1'] \\\n",
      "                        PP[Gend_Subj=?g1, Pers_Subj=?p1, Num_Subj=?n1]    \n",
      "    VP[Pers=?p, Num=?n, Mod='0', Gend_Subj=?g1, Pers_Subj=?p1, Num_Subj=?n1] -> \\\n",
      "                        V[Pers=?p, Num=?n, Val='3'] \\\n",
      "                        NP[Gend_Subj=?g1, Pers_Subj=?p1, Num_Subj=?n1]\\\n",
      "                        PP[Gend_Subj=?g1, Pers_Subj=?p1, Num_Subj=?n1]\n",
      "            \n",
      "            \n",
      "    VP[Gend_Subj=?g, Num_Subj=?n, Pers=?p, Mod='1'] -> MV VP[Num='pl', Mod='0', Gend_Subj=?g, Pers_Subj=?p, Num_Subj=?n]\n",
      "    \n",
      "    \n",
      "    N[Pers=?p, Num=?n, First=?f] -> ADJ[First=?f] N[Pers=?p, Num=?n]    \n",
      "    \n",
      "    ADJ[First=?f] -> ADV[First=?f] ADJ\n",
      "        \n",
      "\n",
      "    \n",
      "    N[Pers='3', Gend='it', Num='sg', First='c'] -> 'dog' | 'street' | 'chair' | 'table' | 'ground' | 'floor' | 'fork' | 'ball' | 'breakfast' \\\n",
      "        | 'pizza' | 'burger' | 'sandwich' | 'Coca-Cola' | 'chicken' | 'president' | 'bar'\n",
      "    N[Pers='3', Gend='it', Num='sg', First='v'] -> 'apple'\n",
      "    N[Pers='3', Num='pl', First='c'] -> 'dogs' | 'tomatoes' | 'vegetables' | 'dollars' | 'steaks' | 'kilometers' | 'sandwiches' | 'breakfasts'\n",
      "    N[Pers='3', Num='pl', First='v'] -> 'apples'\n",
      "    \n",
      "    NN[Pers='3', Gend='f', Num='sg'] -> 'Mary' | 'Sally' | 'she'\n",
      "    NN[Pers='3', Gend='m', Num='sg'] -> 'John' | 'he'\n",
      "    NN[Pers='3', Gend='it', Num='sg'] -> 'it'\n",
      "    NN[Pers='3', Num='pl'] -> 'they'\n",
      "    NN[Pers='1', Num='sg'] -> 'I'\n",
      "    NN[Pers='1', Num='pl'] -> 'we'\n",
      "    NN[Pers='2'] -> 'you'\n",
      "     \n",
      "    V[Pers='3', Num='sg', Val='1', Be='0'] -> 'sleeps' | 'walks' | 'eats' | 'lies' | 'sits' | 'cooks'\n",
      "    V[Pers='3', Num='sg', Val='2', Be='0'] -> 'eats' | 'lies' | 'catches' | 'sees' | 'washes' | 'chopps' | 'tosses' | 'likes' | 'hates' | 'cooks'\n",
      "    V[Pers='3', Num='sg', Val='3', Be='0'] -> 'gives' | 'takes'\n",
      "    V[Pers='3', Num='sg', Val='2', Be='1'] -> 'is'    \n",
      "         \n",
      "    V[Num='pl', Val='1', Be='0'] -> 'sleep' | 'walk' | 'eat' | 'lie' | 'sit' | 'cook'\n",
      "    V[Num='pl', Val='2', Be='0'] -> 'eat' | 'lie' | 'catch' | 'see' | 'cook' | 'want' | 'need' | 'like' | 'hate'\n",
      "    V[Num='pl', Val='3', Be='0'] -> 'give' | 'take'\n",
      "    V[Num='pl', Val='2', Be='1'] -> 'are'  \n",
      "     \n",
      "    V[Pers='1', Num='sg', Val=?v, Be='0'] -> V[Num='pl', Val=?v, Be='0']\n",
      "    V[Pers='2', Num='sg', Val=?v, Be='0'] -> V[Num='pl', Val=?v, Be='0']\n",
      "        \n",
      "    MV -> 'can' | 'may' | 'should'\n",
      "\n",
      "    ADJ[First='c'] -> 'red' | 'ripe' | 'big'\n",
      "    ADJ[First='v'] -> 'orange' | 'appetizing'\n",
      "\n",
      "    ADV[First='c'] -> 'truly' | 'highly' | 'very'\n",
      "   \n",
      "    D[Num='sg', First='c'] -> 'a'\n",
      "    D[Num='sg', First='v'] -> 'an'\n",
      "    D -> 'the'\n",
      "    \n",
      "    P -> 'on' | 'to' | 'into' \n",
      "        \n",
      "    PPR[Pers_Subj='1', Num_Subj='sg'] -> 'my'\n",
      "    PPR[Pers_Subj='2', Num_Subj='sg'] -> 'your'\n",
      "    PPR[Gend_Subj='it', Pers_Subj='3', Num_Subj='sg'] -> 'its'\n",
      "    PPR[Gend_Subj='f', Pers_Subj='3', Num_Subj='sg'] -> 'her'\n",
      "    PPR[Gend_Subj='m', Pers_Subj='3', Num_Subj='sg'] -> 'his'    \n",
      "    PPR[Pers_Subj='1', Num_Subj='pl'] -> 'our'    \n",
      "    PPR[Pers_Subj='2', Num_Subj='pl'] -> 'your'\n",
      "    PPR[Pers_Subj='3', Num_Subj='pl'] -> 'their'\n",
      "    \n",
      "    PR -> 'that'    \n",
      "    PR -> 'those'      \n",
      "    \n",
      "    W -> 'what'\n",
      "    DO[Pers='3', Num='sg'] -> 'does'\n",
      "    DO[Num='pl'] -> 'do'\n",
      "    WQ[Pers=?p, Num=?n] -> W DO[Pers=?p, Num=?n]\n",
      "    \n",
      "    CONJ -> 'and' | 'or'\n",
      "    COMMA -> ','   \n",
      "        \n",
      "        \n",
      "        \n",
      "    S -> WQ[Pers=?p, Num=?n] NPP[Pers=?p, Num=?n] V[Num='pl', Val='2'] CONJ NPP V[Num='pl', Val='2']    \n",
      "    S -> WQ[Pers=?p, Num=?n] NPP[Pers=?p, Num=?n] V[Num='pl', Val='2'] CONJ V[Num='pl', Val='2']    \n",
      "    S -> NPP[Gend=?g, Pers=?p, Num=?n] V[Pers=?p, Num=?n, Val='2'] CONJ \\\n",
      "        NPP[Gend=?g1, Pers=?p1, Num=?n1] V[Pers=?p1, Num=?n1, Val='2'] NP[Gend_Subj=?g, Pers_Subj=?p, Num_Subj=?n]\n",
      "        \n",
      "        \n",
      "        \n",
      "    \n",
      "    NP[Gend_Subj=?g, Pers_Subj=?p, Num_Subj=?n, Mod='1'] -> NP[Gend_Subj=?g, Pers_Subj=?p, Num_Subj=?n, Mod='0'] \\\n",
      "                        COMMA NP[Gend_Subj=?g, Pers_Subj=?p, Num_Subj=?n, Mod='0']\n",
      "    NP[Gend_Subj=?g, Pers_Subj=?p, Num_Subj=?n, Mod='1'] -> NP[Gend_Subj=?g, Pers_Subj=?p, Num_Subj=?n, Mod='1'] \\ \n",
      "                        COMMA NP[Gend_Subj=?g, Pers_Subj=?p, Num_Subj=?n, Mod='0']\n",
      "    NP[Gend_Subj=?g, Pers_Subj=?p, Num_Subj=?n, Mod='2'] -> NP[Gend_Subj=?g, Pers_Subj=?p, Num_Subj=?n, Mod='1'] \\\n",
      "                        CONJ NP[Gend=?g, Pers=?p, Num=?n, Mod='0']\n",
      "    NP[Gend_Subj=?g, Pers_Subj=?p, Num_Subj=?n, Mod='2'] -> NP[Gend_Subj=?g, Pers_Subj=?p, Num_Subj=?n, Mod='0'] \\\n",
      "                        CONJ NP[Gend_Subj=?g, Pers_Subj=?p, Num_Subj=?n, Mod='0']\n",
      "    \n",
      "    NPP[Num='pl', Mod='1'] -> NPP[Mod='0'] COMMA NPP[Mod='0']\n",
      "    NPP[Num='pl', Mod='1'] -> NPP[Mod='1'] COMMA NPP[Mod='0']\n",
      "    NPP[Num='pl', Mod='2'] -> NPP[Mod='1'] CONJ NPP[Mod='0']\n",
      "    NPP[Num='pl', Mod='2'] -> NPP[Mod='0'] CONJ NPP[Mod='0']\n",
      "    \n",
      "    V[Pers=?p, Num=?n, Val=?v, Be=?b, Mod='1'] -> V[Pers=?p, Num=?n, Val=?v, Be=?b, Mod='0'] COMMA V[Pers=?p, Num=?n, Val=?v, Be=?b, Mod='0']\n",
      "    V[Pers=?p, Num=?n, Val=?v, Be=?b, Mod='1'] -> V[Pers=?p, Num=?n, Val=?v, Be=?b, Mod='1'] COMMA V[Pers=?p, Num=?n, Val=?v, Be=?b, Mod='0']\n",
      "    V[Pers=?p, Num=?n, Val=?v, Be=?b, Mod='2'] -> V[Pers=?p, Num=?n, Val=?v, Be=?b, Mod='1'] CONJ V[Pers=?p, Num=?n, Val=?v, Be=?b, Mod='0']\n",
      "    V[Pers=?p, Num=?n, Val=?v, Be=?b, Mod='2'] -> V[Pers=?p, Num=?n, Val=?v, Be=?b, Mod='0'] CONJ V[Pers=?p, Num=?n, Val=?v, Be=?b, Mod='0']\n",
      "    \n",
      "    ADJ[First=?f, Mod='1'] -> ADJ[First=?f, Mod='0'] COMMA ADJ[Mod='0']\n",
      "    ADJ[First=?f, Mod='1'] -> ADJ[First=?f, Mod='1'] COMMA ADJ[Mod='0']\n",
      "    ADJ[First=?f, Mod='2'] -> ADJ[First=?f, Mod='1'] CONJ ADJ[Mod='0']\n",
      "    ADJ[First=?f, Mod='2'] -> ADJ[First=?f, Mod='0'] CONJ ADJ[Mod='0']    \n",
      "    \n",
      "    \n",
      "    \n",
      "    NUM_1[One='1'] -> 'one'\n",
      "    NUM_1[One='0'] -> 'two' | 'three' | 'four' | 'five' | 'six' | 'seven' | 'eight' | 'nine'\n",
      "    NUM_10[One='0'] -> 'ten' | 'eleven' | 'twelve' | 'thirteen' | 'fourteen' | 'fifteen' | 'sixteen' | 'seventeen' | 'eighteen' | 'nineteen'\n",
      "    NUM_20[One='0'] -> 'twenty' | 'thirty' | 'fourty' | 'fifty' | 'sixty' | 'seventy' | 'eighty' | 'ninety'\n",
      "    NUM_100[One='0'] -> 'hundred'\n",
      "    NUM_1000[One='0'] -> 'thousand'\n",
      "    \n",
      "    NUM_10[One='0'] -> NUM_20 NUM_1\n",
      "    NUM_10[One='0'] -> NUM_20\n",
      "    NUM_10[One=?o] -> NUM_1[One=?o]\n",
      "    NUM_101[One=?o] -> NUM_10[One=?o]\n",
      "    NUM_101 -> NUM_1 NUM_100\n",
      "    NUM_101 -> NUM_1 NUM_100 NUM_10\n",
      "    NUM_1001[One=?o] -> NUM_101[One=?o]\n",
      "    NUM_1001 -> NUM_10 NUM_1000\n",
      "    NUM_1001 -> NUM_10 NUM_1000 NUM_101   \n",
      "    NUM[One=?o] -> NUM_1001[One=?o]\n",
      "    \n",
      "    NPP[Pers=?p, Gend=?g, Num='sg', First='v', NMod='2'] -> NUM[One='1'] NPP[Pers=?p, Gend=?g, Num='sg', NMod='1']\n",
      "    NPP[Num='pl', NMod='2'] -> NUM[One='0'] N[NMod='1']\n",
      "    \n",
      "    NP[First='v', NMod='2'] -> NUM[One='1'] N[Num='sg', NMod='1']\n",
      "    NP[NMod='2'] -> NUM[One='0'] N[Num='pl', NMod='1']\n",
      "'''\n",
      "\n",
      "GRAMMAR = nltk.grammar.FeatureGrammar.fromstring(grammar)\n",
      "parser = nltk.parse.FeatureEarleyChartParser(GRAMMAR)"
     ],
     "language": "python",
     "metadata": {},
     "outputs": [],
     "prompt_number": 360
    },
    {
     "cell_type": "markdown",
     "metadata": {},
     "source": [
      "\u041f\u0440\u043e\u0432\u0435\u0440\u043a\u0430 \u0432\u0441\u0435\u0445 \u043f\u0440\u0430\u0432\u0438\u043b \u043e\u0434\u043d\u043e\u0432\u0440\u0435\u043c\u0435\u043d\u043d\u043e \u0431\u0435\u0437 \u0432\u044b\u0432\u043e\u0434\u0430 \u043f\u0440\u043e\u0432\u0435\u0440\u0435\u043d\u043d\u044b\u0445 \u043f\u0440\u0435\u0434\u043b\u043e\u0436\u0435\u043d\u0438\u0439. \u0412\u0441\u0435 \u0432\u0435\u0440\u043d\u043e."
     ]
    },
    {
     "cell_type": "code",
     "collapsed": false,
     "input": [
      "sentences = sentences1 + sentences2 + sentences3 + sentences4 + sentences6 + sentences8 + sentences10 + sentences13\n",
      "for (text, result) in sentences:\n",
      "    trees = list(parser.parse(text.replace(',', ' ,').split()))\n",
      "    assert result == (len(trees) >= 1)"
     ],
     "language": "python",
     "metadata": {},
     "outputs": [],
     "prompt_number": 361
    },
    {
     "cell_type": "markdown",
     "metadata": {},
     "source": [
      "\u0417\u0430\u0434\u0430\u0434\u0438\u043c \u043e\u0442\u0434\u0435\u043b\u044c\u043d\u0443\u044e \u0444\u0443\u043d\u043a\u0446\u0438\u044e \u043f\u0440\u043e\u0432\u0435\u0440\u043a\u0438 \u043f\u0440\u0430\u0432\u0438\u043b \u043f\u043e \u043f\u0440\u0435\u0434\u043b\u043e\u0436\u0435\u043d\u0438\u044f\u043c-\u043f\u0440\u0438\u043c\u0435\u0440\u0430\u043c. \u041c\u043e\u0436\u043d\u043e \u0432\u044b\u0432\u043e\u0434\u0438\u0442\u044c \u0432\u0441\u0435 \u0434\u0435\u0440\u0435\u0432\u044c\u044f \u0440\u0430\u0437\u0431\u043e\u0440\u0430 \u0434\u043b\u044f \u043f\u0440\u0435\u0434\u043b\u043e\u0436\u0435\u043d\u0438\u0439 \u0438\u0437 \u0433\u0440\u0430\u043c\u043c\u0430\u0442\u0438\u043a\u0438 \u0438\u043b\u0438 \u0442\u043e\u043b\u044c\u043a\u043e \u043e\u0434\u043d\u043e \u0438\u0437 \u043d\u0438\u0445 \u0434\u043b\u044f \u043a\u0440\u0430\u0442\u043a\u043e\u0441\u0442\u0438."
     ]
    },
    {
     "cell_type": "code",
     "collapsed": false,
     "input": [
      "def check_sentences(sentences):\n",
      "    for (text, result) in sentences:\n",
      "        trees = list(parser.parse(text.replace(',', ' ,').split()))\n",
      "        print text\n",
      "        #for tree in trees: print tree\n",
      "        if len(trees) >= 1: print \"True\", '\\n', trees[0]\n",
      "        print '\\n'\n",
      "        assert result == (len(trees) >= 1)"
     ],
     "language": "python",
     "metadata": {},
     "outputs": [],
     "prompt_number": 291
    },
    {
     "cell_type": "heading",
     "level": 4,
     "metadata": {},
     "source": [
      "\u0412\u044b\u0432\u043e\u0434\u044f\u0442\u0441\u044f \u043f\u043e\u0434\u0445\u043e\u0434\u044f\u0449\u0438\u0435 \u043f\u043e\u0434 \u0433\u0440\u0430\u043c\u043c\u0430\u0442\u0438\u043a\u0443 \u043f\u0440\u0435\u0434\u043b\u043e\u0436\u0435\u043d\u0438\u044f \u0441 \u043f\u043e\u043c\u0435\u0442\u043a\u043e\u0439 True \u0438 \u043f\u0440\u0438\u043c\u0435\u0440\u043e\u043c \u0434\u0435\u0440\u0435\u0432\u0430 \u0440\u0430\u0437\u0431\u043e\u0440\u0430, \u043d\u0435\u043f\u043e\u0434\u0445\u043e\u0434\u044f\u0449\u0438\u0435 \u0432\u044b\u0432\u043e\u0434\u044f\u0442\u0441\u044f \u0431\u0435\u0437 \u043c\u0435\u0442\u043a\u0438."
     ]
    },
    {
     "cell_type": "heading",
     "level": 3,
     "metadata": {},
     "source": [
      "1. \u0421\u043e\u0433\u043b\u0430\u0441\u043e\u0432\u0430\u043d\u043d\u043e\u0441\u0442\u044c \u043f\u043e\u0434\u043b\u0435\u0436\u0430\u0449\u0435\u0433\u043e \u0438 \u0441\u043a\u0430\u0437\u0443\u0435\u043c\u043e\u0433\u043e."
     ]
    },
    {
     "cell_type": "markdown",
     "metadata": {},
     "source": [
      "\u0421\u043e\u0433\u043b\u0430\u0441\u0443\u0435\u043c \u043f\u043e\u0434\u043b\u0435\u0436\u0430\u0449\u0435\u0435(NPP) \u0438 \u0433\u043b\u0430\u0433\u043e\u043b\u044c\u043d\u0443\u044e \u0433\u0440\u0443\u043f\u043f\u0443(VP). \u0414\u043b\u044f \u044d\u0442\u043e\u0433\u043e \u0441\u043e\u0433\u043b\u0430\u0441\u043e\u0432\u0430\u043d\u0438\u044f \u0431\u044b\u043b\u0438 \u0434\u043e\u0431\u0430\u0432\u043b\u0435\u043d\u044b \u0442\u0430\u043a\u0438\u0435 \u0430\u0442\u0442\u0440\u0438\u0431\u0443\u0442\u044b \u043a\u0430\u043a \u0447\u0438\u0441\u043b\u043e - Num \u0438 \u043b\u0438\u0446\u043e - Pers. \u0412 \u0441\u043e\u043e\u0442\u0432\u0435\u0442\u0441\u0442\u0432\u0438\u0438 \u0441 \u043d\u0438\u043c\u0438 \u0431\u044b\u043b\u0438 \u043f\u043e\u0434\u0435\u043b\u0435\u043d\u044b \u043d\u0430 \u0433\u0440\u0443\u043f\u043f\u044b \u0441\u043e\u0433\u043b\u0430\u0441\u0443\u0435\u043c\u044b\u0435 \u0442\u0435\u0440\u043c\u0438\u043d\u0430\u043b\u044b, \u0442\u043e \u0435\u0441\u0442\u044c \u0433\u043b\u0430\u0433\u043e\u043b\u044b - V \u0438 \u0441\u0443\u0449\u0435\u0441\u0442\u0432\u0438\u0442\u0435\u043b\u044c\u043d\u044b\u0435 - N \u0438 NN (\u0432 NN \u0437\u0434\u0435\u0441\u044c \u0442\u0430\u043a\u0436\u0435 \u0432\u043a\u043b\u044e\u0447\u0435\u043d\u044b \u043c\u0435\u0441\u0442\u043e\u0438\u043c\u0435\u043d\u0438\u044f)."
     ]
    },
    {
     "cell_type": "code",
     "collapsed": false,
     "input": [
      "sentences1 = [\n",
      "    (\"John eats\", True),\n",
      "    (\"I walk on the street\", True),\n",
      "    (\"he sits on the table\", True),\n",
      "    (\"the dogs lie\", True),\n",
      "    (\"you see the apples\", True),\n",
      "    \n",
      "    (\"John eat\", False),\n",
      "    (\"Mary sit on a chair\", False),\n",
      "    (\"I cooks burger\", False),\n",
      "    (\"we sleeps\", False),\n",
      "    (\"he see an apple\", False),\n",
      "]\n",
      "\n",
      "check_sentences(sentences1)"
     ],
     "language": "python",
     "metadata": {},
     "outputs": [
      {
       "output_type": "stream",
       "stream": "stdout",
       "text": [
        "John eats\n",
        "True \n",
        "(S[]\n",
        "  (NPP[Gend='m', Num='sg', Pers='3']\n",
        "    (NP[Gend='m', Mod='0', Num='sg', Pers='3']\n",
        "      (NN[Gend='m', Num='sg', Pers='3'] John)))\n",
        "  (VP[Mod='0', Num='sg', Pers='3']\n",
        "    (V[Be='0', Num='sg', Pers='3', Val='1'] eats)))\n",
        "\n",
        "\n",
        "I walk on the street"
       ]
      },
      {
       "output_type": "stream",
       "stream": "stdout",
       "text": [
        "\n",
        "True \n",
        "(S[]\n",
        "  (NPP[Gend=?g, Num='sg', Pers='1']\n",
        "    (NP[Gend=?g, Mod='0', Num='sg', Pers='1']\n",
        "      (NN[Num='sg', Pers='1'] I)))\n",
        "  (VP[Mod='0', Num='sg', Pers='1']\n",
        "    (V[Be='0', Num='sg', Pers='1', Val='1']\n",
        "      (V[Be='0', Num='pl', Val='1'] walk))\n",
        "    (PP[Num=?n, Pers=?p]\n",
        "      (P[] on)\n",
        "      (NP[Mod='0']\n",
        "        (D[] the)\n",
        "        (N[First='c', Gend='it', Num='sg', Pers='3'] street)))))\n",
        "\n",
        "\n",
        "he sits on the table"
       ]
      },
      {
       "output_type": "stream",
       "stream": "stdout",
       "text": [
        "\n",
        "True \n",
        "(S[]\n",
        "  (NPP[Gend='m', Num='sg', Pers='3']\n",
        "    (NP[Gend='m', Mod='0', Num='sg', Pers='3']\n",
        "      (NN[Gend='m', Num='sg', Pers='3'] he)))\n",
        "  (VP[Mod='0', Num='sg', Pers='3']\n",
        "    (V[Be='0', Num='sg', Pers='3', Val='1'] sits)\n",
        "    (PP[Num=?n, Pers=?p]\n",
        "      (P[] on)\n",
        "      (NP[Mod='0']\n",
        "        (D[] the)\n",
        "        (N[First='c', Gend='it', Num='sg', Pers='3'] table)))))\n",
        "\n",
        "\n",
        "the dogs lie"
       ]
      },
      {
       "output_type": "stream",
       "stream": "stdout",
       "text": [
        "\n",
        "True \n",
        "(S[]\n",
        "  (NPP[Gend=?g, Num=?n, Pers=?p]\n",
        "    (NP[Mod='0'] (D[] the) (N[First='c', Num='pl', Pers='3'] dogs)))\n",
        "  (VP[Mod='0', Num='pl', Pers=?p] (V[Be='0', Num='pl', Val='1'] lie)))\n",
        "\n",
        "\n",
        "you see the apples"
       ]
      },
      {
       "output_type": "stream",
       "stream": "stdout",
       "text": [
        "\n",
        "True \n",
        "(S[]\n",
        "  (NPP[Gend=?g, Num=?n, Pers='2']\n",
        "    (NP[Gend=?g, Mod='0', Num=?n, Pers='2'] (NN[Pers='2'] you)))\n",
        "  (VP[Gend=?g, Mod='0', Num='sg', Pers='2']\n",
        "    (V[Be='0', Num='sg', Pers='2', Val='2']\n",
        "      (V[Be='0', Num='pl', Val='2'] see))\n",
        "    (NP[Mod='0'] (D[] the) (N[First='v', Num='pl', Pers='3'] apples))))\n",
        "\n",
        "\n",
        "John eat"
       ]
      },
      {
       "output_type": "stream",
       "stream": "stdout",
       "text": [
        "\n",
        "\n",
        "\n",
        "Mary sit on a chair"
       ]
      },
      {
       "output_type": "stream",
       "stream": "stdout",
       "text": [
        "\n",
        "\n",
        "\n",
        "I cooks burger"
       ]
      },
      {
       "output_type": "stream",
       "stream": "stdout",
       "text": [
        "\n",
        "\n",
        "\n",
        "we sleeps"
       ]
      },
      {
       "output_type": "stream",
       "stream": "stdout",
       "text": [
        "\n",
        "\n",
        "\n",
        "he see an apple"
       ]
      },
      {
       "output_type": "stream",
       "stream": "stdout",
       "text": [
        "\n",
        "\n",
        "\n"
       ]
      }
     ],
     "prompt_number": 275
    },
    {
     "cell_type": "heading",
     "level": 3,
     "metadata": {},
     "source": [
      "2. \u0421\u043e\u0433\u043b\u0430\u0441\u043e\u0432\u0430\u043d\u043d\u043e\u0441\u0442\u044c \u0432\u043d\u0443\u0442\u0440\u0438 \u0438\u043c\u0435\u043d\u043d\u044b\u0445 \u0433\u0440\u0443\u043f\u043f, \u043f\u0440\u0438\u0442\u044f\u0436\u0430\u0442\u0435\u043b\u044c\u043d\u044b\u0435 \u043c\u0435\u0441\u0442\u043e\u0438\u043c\u0435\u043d\u0438\u044f."
     ]
    },
    {
     "cell_type": "markdown",
     "metadata": {},
     "source": [
      "\u041c\u044b \u0441\u043e\u0433\u043b\u0430\u0441\u0443\u0435\u043c \u043f\u0440\u0438\u0442\u044f\u0436\u0430\u0442\u0435\u043b\u044c\u043d\u043e\u0435 \u043c\u0435\u0441\u0442\u043e\u0438\u043c\u0435\u043d\u0438\u0435(PPR) \u0441 \u043f\u043e\u0434\u043b\u0435\u0436\u0430\u0449\u0438\u043c(NPP), PPR \u0432\u0445\u043e\u0434\u0438\u0442 \u0432 \u043f\u0440\u0430\u0432\u0443\u044e \u0447\u0430\u0441\u0442\u044c \u043e\u0434\u043d\u043e\u0439 \u043f\u0440\u043e\u0434\u0443\u043a\u0446\u0438\u0438 \u0434\u043b\u044f NP. \u0417\u043d\u0430\u0447\u0438\u0442 \u043d\u0430\u0434\u043e \u0434\u043b\u044f \u0432\u0441\u0435\u0445 \u043f\u0440\u0438\u0434\u0430\u0442\u043e\u0447\u043d\u044b\u0445 NP \u0432 \u043f\u0440\u0435\u0434\u043b\u043e\u0436\u0435\u043d\u0438\u0438 \u0441\u043e\u0445\u0440\u0430\u043d\u044f\u0442\u044c \u0438\u043d\u0444\u043e\u0440\u043c\u0430\u0446\u0438\u044e \u043e \u043b\u0438\u0446\u0435(Pers_Subj), \u0447\u0438\u0441\u043b\u0435(Num_Subj) \u0438 \u0440\u043e\u0434\u0435(Gend_Subj) \u043f\u043e\u0434\u043b\u0435\u0436\u0430\u0449\u0435\u0433\u043e. \u0418\u0437-\u0437\u0430 \u0442\u043e\u0433\u043e, \u0447\u0442\u043e \u043f\u043e\u0441\u0442\u0440\u043e\u0435\u043d\u0430 \u0441\u0442\u0440\u0443\u043a\u0442\u0443\u0440\u0430 VP -> V NP, \u043f\u0440\u0438\u0445\u043e\u0434\u0438\u0442\u0441\u044f \u044d\u0442\u0438 \u0430\u0442\u0442\u0440\u0438\u0431\u0443\u0442\u044b \u0445\u0440\u0430\u043d\u0438\u0442\u044c \u0438 \u0434\u043b\u044f VP (\u0432\u043e\u0437\u043c\u043e\u0436\u043d\u043e \u0442\u0430\u043a\u0430\u044f \u0441\u0442\u0440\u0443\u043a\u0442\u0443\u0440\u0430 \u0431\u044b\u043b\u0430 \u043d\u0435\u0443\u0434\u0430\u0447\u043d\u043e\u0439, \u043d\u043e \u043e\u043d\u0430 \u0440\u0430\u0431\u043e\u0442\u0430\u0435\u0442)."
     ]
    },
    {
     "cell_type": "code",
     "collapsed": false,
     "input": [
      "sentences2 = [\n",
      "    (\"a dog catches its ball\", True),\n",
      "    (\"John cooks his steaks\", True),   \n",
      "    (\"Mary eats her breakfast\", True),    \n",
      "    (\"I see my table\", True),    \n",
      "    (\"they eat their vegetables\", True),\n",
      "    \n",
      "    (\"John sees those apple\", False),\n",
      "    (\"I eat that tomatoes\", False),    \n",
      "    (\"Mary sees its floor\", False),\n",
      "    (\"we like his apples\", False),\n",
      "    (\"it catches our ball\", False),\n",
      "]\n",
      "\n",
      "check_sentences(sentences2)"
     ],
     "language": "python",
     "metadata": {},
     "outputs": [
      {
       "output_type": "stream",
       "stream": "stdout",
       "text": [
        "a dog catches its ball\n",
        "True \n",
        "(S[]\n",
        "  (NPP[Gend=?g, Num=?n, Pers=?p]\n",
        "    (NP[Mod='0']\n",
        "      (D[First='c', Num='sg'] a)\n",
        "      (N[First='c', Gend='it', Num='sg', Pers='3'] dog)))\n",
        "  (VP[Gend='it', Mod='0', Num='sg', Pers='3']\n",
        "    (V[Be='0', Num='sg', Pers='3', Val='2'] catches)\n",
        "    (NP[Gend_Subj='it', Mod='0', Num_Subj='sg', Pers_Subj='3']\n",
        "      (PPR[Gend_Subj='it', Num_Subj='sg', Pers_Subj='3'] its)\n",
        "      (N[First='c', Gend='it', Num='sg', Pers='3'] ball))))\n",
        "\n",
        "\n",
        "John cooks his steaks"
       ]
      },
      {
       "output_type": "stream",
       "stream": "stdout",
       "text": [
        "\n",
        "True \n",
        "(S[]\n",
        "  (NPP[Gend='m', Num='sg', Pers='3']\n",
        "    (NP[Gend='m', Mod='0', Num='sg', Pers='3']\n",
        "      (NN[Gend='m', Num='sg', Pers='3'] John)))\n",
        "  (VP[Gend='m', Mod='0', Num='sg', Pers='3']\n",
        "    (V[Be='0', Num='sg', Pers='3', Val='2'] cooks)\n",
        "    (NP[Gend_Subj='m', Mod='0', Num_Subj='sg', Pers_Subj='3']\n",
        "      (PPR[Gend_Subj='m', Num_Subj='sg', Pers_Subj='3'] his)\n",
        "      (N[First='c', Num='pl', Pers='3'] steaks))))\n",
        "\n",
        "\n",
        "Mary eats her breakfast"
       ]
      },
      {
       "output_type": "stream",
       "stream": "stdout",
       "text": [
        "\n",
        "True \n",
        "(S[]\n",
        "  (NPP[Gend='f', Num='sg', Pers='3']\n",
        "    (NP[Gend='f', Mod='0', Num='sg', Pers='3']\n",
        "      (NN[Gend='f', Num='sg', Pers='3'] Mary)))\n",
        "  (VP[Gend='f', Mod='0', Num='sg', Pers='3']\n",
        "    (V[Be='0', Num='sg', Pers='3', Val='2'] eats)\n",
        "    (NP[Gend_Subj='f', Mod='0', Num_Subj='sg', Pers_Subj='3']\n",
        "      (PPR[Gend_Subj='f', Num_Subj='sg', Pers_Subj='3'] her)\n",
        "      (N[First='c', Gend='it', Num='sg', Pers='3'] breakfast))))\n",
        "\n",
        "\n",
        "I see my table"
       ]
      },
      {
       "output_type": "stream",
       "stream": "stdout",
       "text": [
        "\n",
        "True \n",
        "(S[]\n",
        "  (NPP[Gend=?g, Num='sg', Pers='1']\n",
        "    (NP[Gend=?g, Mod='0', Num='sg', Pers='1']\n",
        "      (NN[Num='sg', Pers='1'] I)))\n",
        "  (VP[Gend=?g, Mod='0', Num='sg', Pers='1']\n",
        "    (V[Be='0', Num='sg', Pers='1', Val='2']\n",
        "      (V[Be='0', Num='pl', Val='2'] see))\n",
        "    (NP[Gend_Subj=?g, Mod='0', Num_Subj='sg', Pers_Subj='1']\n",
        "      (PPR[Num_Subj='sg', Pers_Subj='1'] my)\n",
        "      (N[First='c', Gend='it', Num='sg', Pers='3'] table))))\n",
        "\n",
        "\n",
        "they eat their vegetables"
       ]
      },
      {
       "output_type": "stream",
       "stream": "stdout",
       "text": [
        "\n",
        "True \n",
        "(S[]\n",
        "  (NPP[Gend=?g, Num='pl', Pers='3']\n",
        "    (NP[Gend=?g, Mod='0', Num='pl', Pers='3']\n",
        "      (NN[Num='pl', Pers='3'] they)))\n",
        "  (VP[Gend=?g, Mod='0', Num='pl', Pers='3']\n",
        "    (V[Be='0', Num='pl', Val='2'] eat)\n",
        "    (NP[Gend_Subj=?g, Mod='0', Num_Subj='pl', Pers_Subj='3']\n",
        "      (PPR[Num_Subj='pl', Pers_Subj='3'] their)\n",
        "      (N[First='c', Num='pl', Pers='3'] vegetables))))\n",
        "\n",
        "\n",
        "John sees those apple"
       ]
      },
      {
       "output_type": "stream",
       "stream": "stdout",
       "text": [
        "\n",
        "\n",
        "\n",
        "I eat that tomatoes"
       ]
      },
      {
       "output_type": "stream",
       "stream": "stdout",
       "text": [
        "\n",
        "\n",
        "\n",
        "Mary sees its floor"
       ]
      },
      {
       "output_type": "stream",
       "stream": "stdout",
       "text": [
        "\n",
        "\n",
        "\n",
        "we like his apples"
       ]
      },
      {
       "output_type": "stream",
       "stream": "stdout",
       "text": [
        "\n",
        "\n",
        "\n",
        "it catches our ball"
       ]
      },
      {
       "output_type": "stream",
       "stream": "stdout",
       "text": [
        "\n",
        "\n",
        "\n"
       ]
      }
     ],
     "prompt_number": 303
    },
    {
     "cell_type": "heading",
     "level": 3,
     "metadata": {},
     "source": [
      "3. \u041f\u043e\u0434\u0434\u0435\u0440\u0436\u043a\u0430 \u0430\u0440\u0442\u0438\u043a\u043b\u0435\u0439."
     ]
    },
    {
     "cell_type": "markdown",
     "metadata": {},
     "source": [
      "\u0410\u0440\u0442\u0438\u043a\u043b\u0438 \u043e\u0431\u043e\u0437\u043d\u0430\u0447\u0435\u043d\u044b \u043d\u0435\u0442\u0435\u0440\u043c\u0438\u043d\u0430\u043b\u043e\u043c D, \u0434\u043b\u044f \u043e\u0442\u043b\u0438\u0447\u0435\u043d\u0438\u044f \u043f\u0440\u0438\u043c\u0435\u043d\u0435\u043d\u0438\u0439 a \u0438 an \u0434\u043e\u0431\u0430\u0432\u043b\u0435\u043d \u0430\u0442\u0442\u0440\u0438\u0431\u0443\u0442 First (c-constonant, v-vowel). \u0422\u0430\u043a\u0436\u0435 \u0443\u0447\u0442\u0435\u043d\u043e, \u0447\u0442\u043e \u0430\u0440\u0442\u0438\u043a\u043b\u044c the \u043c\u043e\u0436\u0435\u0442 \u0443\u043f\u043e\u0442\u0440\u0435\u0431\u043b\u044f\u0442\u044c\u0441\u044f \u0441 \u043c\u043d\u043e\u0436\u0435\u0441\u0442\u0432\u0435\u043d\u043d\u044b\u043c \u0447\u0438\u0441\u043b\u043e\u043c \u0441\u0443\u0449\u0435\u0441\u0442\u0432\u0438\u0442\u0435\u043b\u044c\u043d\u043e\u0433\u043e (\u043c\u043e\u0436\u043d\u043e \u043e\u0431\u043e\u0439\u0442\u0438\u0441\u044c \u0438 \u0431\u0435\u0437 \u0430\u0440\u0442\u0438\u043a\u043b\u044f). \u0414\u043e\u0431\u0430\u0432\u043b\u0435\u043d\u0430 \u043f\u043e\u0434\u0434\u0435\u0440\u0436\u043a\u0430 \u043f\u0440\u0438\u043b\u0430\u0433\u0430\u0442\u0435\u043b\u044c\u043d\u044b\u0445, \u0430\u0440\u0442\u0438\u043a\u043b\u044c \u0438\u0434\u0435\u0442 \u043f\u0435\u0440\u0435\u0434 \u043d\u0438\u043c\u0438."
     ]
    },
    {
     "cell_type": "code",
     "collapsed": false,
     "input": [
      "sentences3 = [\n",
      "    (\"an apple lies on the table\", True),\n",
      "    (\"a red apple lies on the ground\", True),\n",
      "    (\"the red apples lie on the floor\", True),\n",
      "    (\"an apple lies on a floor\", True),\n",
      "    (\"dogs lie on a floor\", True),\n",
      "    \n",
      "    (\"a apple lies on an floor\", False),\n",
      "    (\"an apples lie on the table\", False),\n",
      "    (\"the Mary eats a fork\", False),\n",
      "    (\"Mary sees fork\", False),\n",
      "    (\"dog lies on the floor\", False),\n",
      "]\n",
      "\n",
      "check_sentences(sentences3)"
     ],
     "language": "python",
     "metadata": {},
     "outputs": [
      {
       "output_type": "stream",
       "stream": "stdout",
       "text": [
        "an apple lies on the table\n",
        "True \n",
        "(S[]\n",
        "  (NPP[Gend=?g, Num='sg', Pers='3']\n",
        "    (NP[Mod='0', Num='sg', Pers='3']\n",
        "      (D[First='v', Num='sg'] an)\n",
        "      (N[First='v', Gend='it', Num='sg', Pers='3'] apple)))\n",
        "  (VP[Gend_Subj=?g1, Mod='0', Num='sg', Num_Subj=?n1, Pers='3', Pers_Subj=?p1]\n",
        "    (V[Be='0', Num='sg', Pers='3', Val='1'] lies)\n",
        "    (PP[Gend_Subj=?g1, Num='sg', Num_Subj=?n1, Pers='3', Pers_Subj=?p1]\n",
        "      (P[] on)\n",
        "      (NP[Mod='0', Num='sg', Pers='3']\n",
        "        (D[] the)\n",
        "        (N[First='c', Gend='it', Num='sg', Pers='3'] table)))))\n",
        "\n",
        "\n",
        "a red apple lies on the ground"
       ]
      },
      {
       "output_type": "stream",
       "stream": "stdout",
       "text": [
        "\n",
        "True \n",
        "(S[]\n",
        "  (NPP[Gend=?g, Num='sg', Pers='3']\n",
        "    (NP[Mod='0', Num='sg', Pers='3']\n",
        "      (D[First='c', Num='sg'] a)\n",
        "      (N[First='c', Num='sg', Pers='3']\n",
        "        (ADJ[First='c'] red)\n",
        "        (N[First='v', Gend='it', Num='sg', Pers='3'] apple))))\n",
        "  (VP[Gend_Subj=?g1, Mod='0', Num='sg', Num_Subj=?n1, Pers='3', Pers_Subj=?p1]\n",
        "    (V[Be='0', Num='sg', Pers='3', Val='1'] lies)\n",
        "    (PP[Gend_Subj=?g1, Num='sg', Num_Subj=?n1, Pers='3', Pers_Subj=?p1]\n",
        "      (P[] on)\n",
        "      (NP[Mod='0', Num='sg', Pers='3']\n",
        "        (D[] the)\n",
        "        (N[First='c', Gend='it', Num='sg', Pers='3'] ground)))))\n",
        "\n",
        "\n",
        "the red apples lie on the floor"
       ]
      },
      {
       "output_type": "stream",
       "stream": "stdout",
       "text": [
        "\n",
        "True \n",
        "(S[]\n",
        "  (NPP[Gend=?g, Num='pl', Pers='3']\n",
        "    (NP[Mod='0', Num='pl', Pers='3']\n",
        "      (D[] the)\n",
        "      (N[First='c', Num='pl', Pers='3']\n",
        "        (ADJ[First='c'] red)\n",
        "        (N[First='v', Num='pl', Pers='3'] apples))))\n",
        "  (VP[Gend_Subj=?g1, Mod='0', Num='pl', Num_Subj=?n1, Pers=?p, Pers_Subj=?p1]\n",
        "    (V[Be='0', Num='pl', Val='1'] lie)\n",
        "    (PP[Gend_Subj=?g1, Num='sg', Num_Subj=?n1, Pers='3', Pers_Subj=?p1]\n",
        "      (P[] on)\n",
        "      (NP[Mod='0', Num='sg', Pers='3']\n",
        "        (D[] the)\n",
        "        (N[First='c', Gend='it', Num='sg', Pers='3'] floor)))))\n",
        "\n",
        "\n",
        "an apple lies on a floor"
       ]
      },
      {
       "output_type": "stream",
       "stream": "stdout",
       "text": [
        "\n",
        "True \n",
        "(S[]\n",
        "  (NPP[Gend=?g, Num='sg', Pers='3']\n",
        "    (NP[Mod='0', Num='sg', Pers='3']\n",
        "      (D[First='v', Num='sg'] an)\n",
        "      (N[First='v', Gend='it', Num='sg', Pers='3'] apple)))\n",
        "  (VP[Gend_Subj=?g1, Mod='0', Num='sg', Num_Subj=?n1, Pers='3', Pers_Subj=?p1]\n",
        "    (V[Be='0', Num='sg', Pers='3', Val='1'] lies)\n",
        "    (PP[Gend_Subj=?g1, Num='sg', Num_Subj=?n1, Pers='3', Pers_Subj=?p1]\n",
        "      (P[] on)\n",
        "      (NP[Mod='0', Num='sg', Pers='3']\n",
        "        (D[First='c', Num='sg'] a)\n",
        "        (N[First='c', Gend='it', Num='sg', Pers='3'] floor)))))\n",
        "\n",
        "\n",
        "dogs lie on a floor"
       ]
      },
      {
       "output_type": "stream",
       "stream": "stdout",
       "text": [
        "\n",
        "True \n",
        "(S[]\n",
        "  (NPP[Gend=?g, Num='pl', Pers=?p]\n",
        "    (NP[Mod='0', Num='pl'] (N[First='c', Num='pl', Pers='3'] dogs)))\n",
        "  (VP[Gend_Subj=?g1, Mod='0', Num='pl', Num_Subj=?n1, Pers=?p, Pers_Subj=?p1]\n",
        "    (V[Be='0', Num='pl', Val='1'] lie)\n",
        "    (PP[Gend_Subj=?g1, Num='sg', Num_Subj=?n1, Pers='3', Pers_Subj=?p1]\n",
        "      (P[] on)\n",
        "      (NP[Mod='0', Num='sg', Pers='3']\n",
        "        (D[First='c', Num='sg'] a)\n",
        "        (N[First='c', Gend='it', Num='sg', Pers='3'] floor)))))\n",
        "\n",
        "\n",
        "a apple lies on an floor\n",
        "\n",
        "\n",
        "an apples lie on the table"
       ]
      },
      {
       "output_type": "stream",
       "stream": "stdout",
       "text": [
        "\n",
        "\n",
        "\n",
        "the Mary eats a fork\n",
        "\n",
        "\n",
        "Mary sees fork"
       ]
      },
      {
       "output_type": "stream",
       "stream": "stdout",
       "text": [
        "\n",
        "\n",
        "\n",
        "dog lies on the floor\n",
        "\n",
        "\n"
       ]
      }
     ],
     "prompt_number": 355
    },
    {
     "cell_type": "heading",
     "level": 3,
     "metadata": {},
     "source": [
      "4. \u0412\u0430\u043b\u0435\u043d\u0442\u043d\u043e\u0441\u0442\u044c \u0433\u043b\u0430\u0433\u043e\u043b\u043e\u0432. "
     ]
    },
    {
     "cell_type": "markdown",
     "metadata": {},
     "source": [
      "\u0414\u043b\u044f \u0443\u043f\u0440\u043e\u0449\u0435\u043d\u0438\u044f \u0441\u0447\u0438\u0442\u0430\u044e, \u0447\u0442\u043e \u0432\u0430\u043b\u0435\u043d\u0442\u043d\u043e\u0441\u0442\u044c \u043f\u043e\u043a\u0430\u0437\u044b\u0432\u0430\u0435\u0442 \u0442\u043e\u0447\u043d\u043e\u0435 \u043a\u043e\u043b\u0438\u0447\u0435\u0441\u0442\u0432\u043e \u0437\u0430\u0432\u0438\u0441\u0438\u043c\u044b\u0445 \u0438\u043c\u0435\u043d\u043d\u044b\u0445 \u0433\u0440\u0443\u043f\u043f, \u043a\u043e\u0442\u043e\u0440\u043e\u0435 \u0435\u0441\u0442\u044c \u0443 \u0433\u043b\u0430\u0433\u043e\u043b\u0430. \u0415\u0441\u043b\u0438 \u043c\u043e\u0436\u0435\u0442 \u0431\u044b\u0442\u044c \u0440\u0430\u0437\u043d\u043e\u0435 \u043a\u043e\u043b\u0438\u0447\u0435\u0441\u0442\u0432\u043e \u0437\u0430\u0432\u0438\u0441\u0438\u043c\u044b\u0445 \u0433\u0440\u0443\u043f\u043f, \u0442\u043e \u0437\u0430\u043f\u0438\u0441\u044b\u0432\u0430\u044e \u044d\u0442\u043e\u0442 \u0433\u043b\u0430\u0433\u043e\u043b \u0441 \u0440\u0430\u0437\u043d\u044b\u043c \u0430\u0442\u0442\u0440\u0438\u0431\u0443\u0442\u043e\u043c \u0432\u0430\u043b\u0435\u043d\u0442\u043d\u043e\u0441\u0442\u0438. \u0414\u043b\u044f \u043d\u0435\u0442\u0440\u0430\u043d\u0437\u0438\u0442\u0438\u0432\u043d\u044b\u0445 \u0433\u043b\u0430\u0433\u043e\u043b\u043e\u0432 \u0437\u0430\u0432\u0438\u0441\u0438\u043c\u044b\u0445 \u0433\u0440\u0443\u043f\u043f \u043d\u0435\u0442, \u0434\u043b\u044f \u0432\u0430\u043b\u0435\u043d\u0442\u043d\u043e\u0441\u0442\u0438 2 \u0440\u0430\u0441\u0441\u043c\u0430\u0442\u0440\u0438\u0432\u0430\u044e \u0437\u0434\u0435\u0441\u044c \u0442\u043e\u043b\u044c\u043a\u043e \u0433\u043b\u0430\u0433\u043e\u043b\u044b \u0441 \u0437\u0430\u0432\u0438\u0441\u0438\u043c\u043e\u0439 \u0433\u0440\u0443\u043f\u043f\u043e\u0439 NP(\u0431\u0435\u0437 \u043f\u0440\u0435\u0434\u043b\u043e\u0433\u0430), \u0434\u043b\u044f \u0432\u0430\u043b\u0435\u043d\u0442\u043d\u043e\u0441\u0442\u0438 3 \u0437\u0430\u0432\u0438\u0441\u0438\u043c\u044b\u0435 \u0433\u0440\u0443\u043f\u043f\u044b NP \u0438 PP (PP -> P NP, \u0433\u0434\u0435 P-\u043f\u0440\u0435\u0434\u043b\u043e\u0433)."
     ]
    },
    {
     "cell_type": "code",
     "collapsed": false,
     "input": [
      "sentences4 = [\n",
      "    (\"Mary sleeps\", True),\n",
      "    (\"the dog catches the ball\", True),\n",
      "    (\"Mary gives her ball to the dog\", True),    \n",
      "    (\"we cook vegetables\", True),\n",
      "    (\"I cook\", True),\n",
      "    \n",
      "    (\"Mary sleeps the ball\", False),\n",
      "    (\"the dog catches to Mary\", False),\n",
      "    (\"the ball catches\", False),\n",
      "    (\"John gives on the street\", False),\n",
      "    (\"Mary hates dogs into the floor\", False),\n",
      "]\n",
      "\n",
      "check_sentences(sentences4)"
     ],
     "language": "python",
     "metadata": {},
     "outputs": [
      {
       "output_type": "stream",
       "stream": "stdout",
       "text": [
        "Mary sleeps\n",
        "True \n",
        "(S[]\n",
        "  (NPP[Gend='f', Num='sg', Pers='3']\n",
        "    (NP[Gend='f', Mod='0', Num='sg', Pers='3']\n",
        "      (NN[Gend='f', Num='sg', Pers='3'] Mary)))\n",
        "  (VP[Mod='0', Num='sg', Pers='3']\n",
        "    (V[Be='0', Num='sg', Pers='3', Val='1'] sleeps)))\n",
        "\n",
        "\n",
        "the dog catches the ball"
       ]
      },
      {
       "output_type": "stream",
       "stream": "stdout",
       "text": [
        "\n",
        "True \n",
        "(S[]\n",
        "  (NPP[Gend=?g, Num=?n, Pers=?p]\n",
        "    (NP[Mod='0']\n",
        "      (D[] the)\n",
        "      (N[First='c', Gend='it', Num='sg', Pers='3'] dog)))\n",
        "  (VP[Gend=?g, Mod='0', Num='sg', Pers='3']\n",
        "    (V[Be='0', Num='sg', Pers='3', Val='2'] catches)\n",
        "    (NP[Mod='0']\n",
        "      (D[] the)\n",
        "      (N[First='c', Gend='it', Num='sg', Pers='3'] ball))))\n",
        "\n",
        "\n",
        "Mary gives her ball to the dog"
       ]
      },
      {
       "output_type": "stream",
       "stream": "stdout",
       "text": [
        "\n",
        "True \n",
        "(S[]\n",
        "  (NPP[Gend='f', Num='sg', Pers='3']\n",
        "    (NP[Gend='f', Mod='0', Num='sg', Pers='3']\n",
        "      (NN[Gend='f', Num='sg', Pers='3'] Mary)))\n",
        "  (VP[Gend='f', Mod='0', Num='sg', Pers='3']\n",
        "    (V[Be='0', Num='sg', Pers='3', Val='3'] gives)\n",
        "    (NP[Gend='f', Mod='0', Num='sg', Pers='3']\n",
        "      (PPR[Gend='f', Num='sg', Pers='3'] her)\n",
        "      (N[First='c', Gend='it', Num='sg', Pers='3'] ball))\n",
        "    (PP[Num=?n, Pers=?p]\n",
        "      (P[] to)\n",
        "      (NP[Mod='0']\n",
        "        (D[] the)\n",
        "        (N[First='c', Gend='it', Num='sg', Pers='3'] dog)))))\n",
        "\n",
        "\n",
        "we cook vegetables"
       ]
      },
      {
       "output_type": "stream",
       "stream": "stdout",
       "text": [
        "\n",
        "True \n",
        "(S[]\n",
        "  (NPP[Gend=?g, Num='pl', Pers='1']\n",
        "    (NP[Gend=?g, Mod='0', Num='pl', Pers='1']\n",
        "      (NN[Num='pl', Pers='1'] we)))\n",
        "  (VP[Gend=?g, Mod='0', Num='pl', Pers=?p]\n",
        "    (V[Be='0', Num='pl', Val='2'] cook)\n",
        "    (NP[Mod='0'] (N[First='c', Num='pl', Pers='3'] vegetables))))\n",
        "\n",
        "\n",
        "I cook"
       ]
      },
      {
       "output_type": "stream",
       "stream": "stdout",
       "text": [
        "\n",
        "True \n",
        "(S[]\n",
        "  (NPP[Gend=?g, Num='sg', Pers='1']\n",
        "    (NP[Gend=?g, Mod='0', Num='sg', Pers='1']\n",
        "      (NN[Num='sg', Pers='1'] I)))\n",
        "  (VP[Mod='0', Num='sg', Pers='1']\n",
        "    (V[Be='0', Num='sg', Pers='1', Val='1']\n",
        "      (V[Be='0', Num='pl', Val='1'] cook))))\n",
        "\n",
        "\n",
        "Mary sleeps the ball"
       ]
      },
      {
       "output_type": "stream",
       "stream": "stdout",
       "text": [
        "\n",
        "\n",
        "\n",
        "the dog catches to Mary"
       ]
      },
      {
       "output_type": "stream",
       "stream": "stdout",
       "text": [
        "\n",
        "\n",
        "\n",
        "the ball catches"
       ]
      },
      {
       "output_type": "stream",
       "stream": "stdout",
       "text": [
        "\n",
        "\n",
        "\n",
        "John gives on the street"
       ]
      },
      {
       "output_type": "stream",
       "stream": "stdout",
       "text": [
        "\n",
        "\n",
        "\n",
        "Mary hates dogs into the floor"
       ]
      },
      {
       "output_type": "stream",
       "stream": "stdout",
       "text": [
        "\n",
        "\n",
        "\n"
       ]
      }
     ],
     "prompt_number": 242
    },
    {
     "cell_type": "heading",
     "level": 3,
     "metadata": {},
     "source": [
      "6. \u0412\u0441\u043f\u043e\u043c\u043e\u0433\u0430\u0442\u0435\u043b\u044c\u043d\u044b\u0435 \u0433\u043b\u0430\u0433\u043e\u043b\u044b: can, may, should."
     ]
    },
    {
     "cell_type": "markdown",
     "metadata": {},
     "source": [
      "\u041f\u043e\u0441\u043b\u0435 \u0432\u0441\u043f\u043e\u043c\u043e\u0433\u0430\u0442\u0435\u043b\u044c\u043d\u044b\u0445 \u0433\u043b\u0430\u0433\u043e\u043b\u043e\u0432 (MV - modal verbs) \u0434\u043e\u043b\u0436\u043d\u044b \u0441\u0442\u043e\u044f\u0442\u044c \u0433\u043b\u0430\u0433\u043e\u043b\u044b \u0432 \u0444\u043e\u0440\u043c\u0435 \u0438\u043d\u0444\u0438\u043d\u0438\u0442\u0438\u0432\u0430, \u043a\u043e\u0442\u043e\u0440\u0430\u044f \u0441\u043e\u0432\u043f\u0430\u0434\u0430\u0435\u0442 \u0441 \u0444\u043e\u0440\u043c\u043e\u0439 \u043c\u043d\u043e\u0436\u0435\u0441\u0442\u0432\u0435\u043d\u043d\u043e\u0433\u043e \u0447\u0438\u0441\u043b\u0430 \u043d\u0430\u0441\u0442\u043e\u044f\u0449\u0435\u0433\u043e \u0432\u0440\u0435\u043c\u0435\u043d\u0438, \u0447\u0435\u043c \u0438 \u0432\u043e\u0441\u043f\u043e\u043b\u044c\u0437\u0443\u044e\u0441\u044c."
     ]
    },
    {
     "cell_type": "code",
     "collapsed": false,
     "input": [
      "sentences6 = [\n",
      "    (\"he should eat his burger\", True),\n",
      "    (\"I can eat a big burger\", True),\n",
      "    (\"Mary can cook a pizza\", True),\n",
      "    (\"a dog may walk\", True),\n",
      "    (\"we should give the ball to Mary\", True),\n",
      "    \n",
      "    (\"Mary should a pizza\", False),\n",
      "    (\"John can it\", False),\n",
      "    (\"a dog may can walk on the street\", False),\n",
      "    (\"I may sees it\", False),\n",
      "    (\"we should walk can the ground\", False), \n",
      "]\n",
      "\n",
      "check_sentences(sentences6)"
     ],
     "language": "python",
     "metadata": {},
     "outputs": [
      {
       "output_type": "stream",
       "stream": "stdout",
       "text": [
        "he should eat his burger\n",
        "True \n",
        "(S[]\n",
        "  (NPP[Gend='m', Num='sg', Pers='3']\n",
        "    (NP[Gend='m', Mod='0', Num='sg', Pers='3']\n",
        "      (NN[Gend='m', Num='sg', Pers='3'] he)))\n",
        "  (VP[Gend_Subj='m', Mod='1', Num_Subj='sg', Pers_Subj='3']\n",
        "    (MV[] should)\n",
        "    (VP[Gend_Subj='m', Mod='0', Num='pl', Num_Subj='sg', Pers=?p, Pers_Subj='3']\n",
        "      (V[Be='0', Num='pl', Val='2'] eat)\n",
        "      (NP[Gend_Subj='m', Mod='0', Num_Subj='sg', Pers_Subj='3']\n",
        "        (PPR[Gend_Subj='m', Num_Subj='sg', Pers_Subj='3'] his)\n",
        "        (N[First='c', Gend='it', Num='sg', Pers='3'] burger)))))\n",
        "\n",
        "\n",
        "I can eat a big burger"
       ]
      },
      {
       "output_type": "stream",
       "stream": "stdout",
       "text": [
        "\n",
        "True \n",
        "(S[]\n",
        "  (NPP[Gend=?g, Num='sg', Pers='1']\n",
        "    (NP[Gend=?g, Mod='0', Num='sg', Pers='1']\n",
        "      (NN[Num='sg', Pers='1'] I)))\n",
        "  (VP[Gend_Subj=?g, Mod='1', Num_Subj=?n, Pers_Subj=?p]\n",
        "    (MV[] can)\n",
        "    (VP[Gend_Subj=?g1, Mod='0', Num='pl', Num_Subj=?n1, Pers=?p, Pers_Subj=?p1]\n",
        "      (V[Be='0', Num='pl', Val='2'] eat)\n",
        "      (NP[Mod='0']\n",
        "        (D[First='c', Num='sg'] a)\n",
        "        (N[First='c', Num='sg', Pers='3']\n",
        "          (ADJ[First='c'] big)\n",
        "          (N[First='c', Gend='it', Num='sg', Pers='3'] burger))))))\n",
        "\n",
        "\n",
        "Mary can cook a pizza"
       ]
      },
      {
       "output_type": "stream",
       "stream": "stdout",
       "text": [
        "\n",
        "True \n",
        "(S[]\n",
        "  (NPP[Gend='f', Num='sg', Pers='3']\n",
        "    (NP[Gend='f', Mod='0', Num='sg', Pers='3']\n",
        "      (NN[Gend='f', Num='sg', Pers='3'] Mary)))\n",
        "  (VP[Gend_Subj=?g, Mod='1', Num_Subj=?n, Pers_Subj=?p]\n",
        "    (MV[] can)\n",
        "    (VP[Gend_Subj=?g1, Mod='0', Num='pl', Num_Subj=?n1, Pers=?p, Pers_Subj=?p1]\n",
        "      (V[Be='0', Num='pl', Val='2'] cook)\n",
        "      (NP[Mod='0']\n",
        "        (D[First='c', Num='sg'] a)\n",
        "        (N[First='c', Gend='it', Num='sg', Pers='3'] pizza)))))\n",
        "\n",
        "\n",
        "a dog may walk"
       ]
      },
      {
       "output_type": "stream",
       "stream": "stdout",
       "text": [
        "\n",
        "True \n",
        "(S[]\n",
        "  (NPP[Gend=?g, Num=?n, Pers=?p]\n",
        "    (NP[Mod='0']\n",
        "      (D[First='c', Num='sg'] a)\n",
        "      (N[First='c', Gend='it', Num='sg', Pers='3'] dog)))\n",
        "  (VP[Gend_Subj=?g, Mod='1', Num_Subj=?n, Pers_Subj=?p]\n",
        "    (MV[] may)\n",
        "    (VP[Mod='0', Num='pl', Pers=?p]\n",
        "      (V[Be='0', Num='pl', Val='1'] walk))))\n",
        "\n",
        "\n",
        "we should give the ball to Mary"
       ]
      },
      {
       "output_type": "stream",
       "stream": "stdout",
       "text": [
        "\n",
        "True \n",
        "(S[]\n",
        "  (NPP[Gend=?g, Num='pl', Pers='1']\n",
        "    (NP[Gend=?g, Mod='0', Num='pl', Pers='1']\n",
        "      (NN[Num='pl', Pers='1'] we)))\n",
        "  (VP[Gend_Subj=?g, Mod='1', Num_Subj=?n, Pers_Subj=?p]\n",
        "    (MV[] should)\n",
        "    (VP[Gend_Subj=?g1, Mod='0', Num='pl', Num_Subj=?n1, Pers=?p, Pers_Subj=?p1]\n",
        "      (V[Be='0', Num='pl', Val='3'] give)\n",
        "      (NP[Mod='0']\n",
        "        (D[] the)\n",
        "        (N[First='c', Gend='it', Num='sg', Pers='3'] ball))\n",
        "      (PP[Gend_Subj=?g1, Num='sg', Num_Subj=?n1, Pers='3', Pers_Subj=?p1]\n",
        "        (P[] to)\n",
        "        (NP[Gend='f', Mod='0', Num='sg', Pers='3']\n",
        "          (NN[Gend='f', Num='sg', Pers='3'] Mary))))))\n",
        "\n",
        "\n",
        "Mary should a pizza"
       ]
      },
      {
       "output_type": "stream",
       "stream": "stdout",
       "text": [
        "\n",
        "\n",
        "\n",
        "John can it"
       ]
      },
      {
       "output_type": "stream",
       "stream": "stdout",
       "text": [
        "\n",
        "\n",
        "\n",
        "a dog may can walk on the street"
       ]
      },
      {
       "output_type": "stream",
       "stream": "stdout",
       "text": [
        "\n",
        "\n",
        "\n",
        "I may sees it"
       ]
      },
      {
       "output_type": "stream",
       "stream": "stdout",
       "text": [
        "\n",
        "\n",
        "\n",
        "we should walk can the ground"
       ]
      },
      {
       "output_type": "stream",
       "stream": "stdout",
       "text": [
        "\n",
        "\n",
        "\n"
       ]
      }
     ],
     "prompt_number": 318
    },
    {
     "cell_type": "heading",
     "level": 3,
     "metadata": {},
     "source": [
      "8. \u041a\u043e\u043e\u0440\u0434\u0438\u043d\u0430\u0446\u0438\u044f Across-the-Board. \u0427\u0442\u043e \u044d\u0442\u043e?"
     ]
    },
    {
     "cell_type": "markdown",
     "metadata": {},
     "source": [
      "\u042d\u0442\u043e \u0437\u0430\u0434\u0430\u043d\u0438\u0435 \u0432 \u043f\u043e\u043b\u043d\u043e\u043c \u0432\u0430\u0440\u0438\u0430\u043d\u0442\u0435 \u0437\u0430\u0432\u0438\u0441\u0438\u0442 \u043e\u0442 12? \u042f \u0432\u0432\u0435\u043b\u0430 \u0442\u043e\u043b\u044c\u043a\u043e WQ - \u0432\u043e\u043f\u0440\u043e\u0441 what do/does \u0438 \u0441\u0442\u0440\u0443\u043a\u0442\u0443\u0440\u044b \u043f\u0440\u0435\u0434\u043b\u043e\u0436\u0435\u043d\u0438\u044f S, \u043f\u043e\u0434\u0445\u043e\u0434\u044f\u0449\u0438\u0435 \u0434\u043b\u044f \u044d\u0442\u043e\u0433\u043e \u0432\u043e\u043f\u0440\u043e\u0441\u0430.\n",
      "\u041a\u0430\u043a\u0438\u0435 \u0435\u0449\u0435 \u043c\u043e\u0433\u0443\u0442 \u0431\u044b\u0442\u044c \u043f\u0440\u0438\u043c\u0435\u0440\u044b \u044d\u0442\u043e\u0439 \u043a\u043e\u043e\u0440\u0434\u0438\u043d\u0430\u0446\u0438\u0438, \u043e\u043d\u0438 \u0435\u0441\u0442\u044c \u0434\u043b\u044f \u0434\u0440\u0443\u0433\u0438\u0445 \u0432\u043e\u043f\u0440\u043e\u0441\u043e\u0432? \u041e\u0442\u043d\u043e\u0441\u044f\u0442\u0441\u044f \u043b\u0438 \u043f\u0440\u0438\u0432\u0435\u0434\u0435\u043d\u043d\u044b\u0439 \u043c\u043d\u043e\u0439 \u043f\u0440\u0438\u043c\u0435\u0440 \"the president likes and Mary hates the apples\" \u043a \u043f\u043e\u0434\u0445\u043e\u0434\u044f\u0449\u0438\u043c \u0438\u043b\u0438 \u044d\u0442\u043e \u043f\u0440\u043e\u0441\u0442\u043e \u043e\u0434\u043d\u043e\u0440\u043e\u0434\u043d\u044b\u0435?"
     ]
    },
    {
     "cell_type": "code",
     "collapsed": false,
     "input": [
      "sentences8 = [ \n",
      "    (\"the president likes and Mary hates the apples\", True),\n",
      "    (\"what does the president like and hate\", True),\n",
      "    (\"what does the president like and Mary hate\", True),\n",
      "    (\"what do they see and catch\", True),\n",
      "    (\"what do the president and Mary see and catch\", True),\n",
      "    \n",
      "    (\"the president likes and hates\", False),\n",
      "    (\"the president likes the sandwiches and hates\", False),\n",
      "    (\"what does the president like and hate apples\", False),    \n",
      "    (\"what does the president like sandwiches and hate\", False),    \n",
      "    (\"what do the president like and hate\", False),\n",
      "]\n",
      "\n",
      "check_sentences(sentences8)"
     ],
     "language": "python",
     "metadata": {},
     "outputs": [
      {
       "output_type": "stream",
       "stream": "stdout",
       "text": [
        "the president likes and Mary hates the apples\n",
        "True \n",
        "(S[]\n",
        "  (NPP[Gend=?g, Num='sg', Pers='3']\n",
        "    (NP[Mod='0', Num='sg', Pers='3']\n",
        "      (D[] the)\n",
        "      (N[First='c', Gend='it', Num='sg', Pers='3'] president)))\n",
        "  (V[Be='0', Num='sg', Pers='3', Val='2'] likes)\n",
        "  (CONJ[] and)\n",
        "  (NPP[Gend='f', Num='sg', Pers='3']\n",
        "    (NP[Gend='f', Mod='0', Num='sg', Pers='3']\n",
        "      (NN[Gend='f', Num='sg', Pers='3'] Mary)))\n",
        "  (V[Be='0', Num='sg', Pers='3', Val='2'] hates)\n",
        "  (NP[Mod='0', Num='pl', Pers='3']\n",
        "    (D[] the)\n",
        "    (N[First='v', Num='pl', Pers='3'] apples)))\n",
        "\n",
        "\n",
        "what does the president like and hate"
       ]
      },
      {
       "output_type": "stream",
       "stream": "stdout",
       "text": [
        "\n",
        "True \n",
        "(S[]\n",
        "  (WQ[Num='sg', Pers='3'] (W[] what) (DO[Num='sg', Pers='3'] does))\n",
        "  (NPP[Gend=?g, Num='sg', Pers='3']\n",
        "    (NP[Mod='0', Num='sg', Pers='3']\n",
        "      (D[] the)\n",
        "      (N[First='c', Gend='it', Num='sg', Pers='3'] president)))\n",
        "  (V[Be='0', Num='pl', Val='2'] like)\n",
        "  (CONJ[] and)\n",
        "  (V[Be='0', Num='pl', Val='2'] hate))\n",
        "\n",
        "\n",
        "what does the president like and Mary hate"
       ]
      },
      {
       "output_type": "stream",
       "stream": "stdout",
       "text": [
        "\n",
        "True \n",
        "(S[]\n",
        "  (WQ[Num='sg', Pers='3'] (W[] what) (DO[Num='sg', Pers='3'] does))\n",
        "  (NPP[Gend=?g, Num='sg', Pers='3']\n",
        "    (NP[Mod='0', Num='sg', Pers='3']\n",
        "      (D[] the)\n",
        "      (N[First='c', Gend='it', Num='sg', Pers='3'] president)))\n",
        "  (V[Be='0', Num='pl', Val='2'] like)\n",
        "  (CONJ[] and)\n",
        "  (NPP[Gend='f', Num='sg', Pers='3']\n",
        "    (NP[Gend='f', Mod='0', Num='sg', Pers='3']\n",
        "      (NN[Gend='f', Num='sg', Pers='3'] Mary)))\n",
        "  (V[Be='0', Num='pl', Val='2'] hate))\n",
        "\n",
        "\n",
        "what do they see and catch"
       ]
      },
      {
       "output_type": "stream",
       "stream": "stdout",
       "text": [
        "\n",
        "True \n",
        "(S[]\n",
        "  (WQ[Num='pl', Pers=?p] (W[] what) (DO[Num='pl'] do))\n",
        "  (NPP[Gend=?g, Num='pl', Pers='3']\n",
        "    (NP[Gend=?g, Mod='0', Num='pl', Pers='3']\n",
        "      (NN[Num='pl', Pers='3'] they)))\n",
        "  (V[Be='0', Num='pl', Val='2'] see)\n",
        "  (CONJ[] and)\n",
        "  (V[Be='0', Num='pl', Val='2'] catch))\n",
        "\n",
        "\n",
        "what do the president and Mary see and catch"
       ]
      },
      {
       "output_type": "stream",
       "stream": "stdout",
       "text": [
        "\n",
        "True \n",
        "(S[]\n",
        "  (WQ[Num='pl', Pers=?p] (W[] what) (DO[Num='pl'] do))\n",
        "  (NPP[Mod='2', Num='pl']\n",
        "    (NPP[Gend=?g, Num='sg', Pers='3']\n",
        "      (NP[Mod='0', Num='sg', Pers='3']\n",
        "        (D[] the)\n",
        "        (N[First='c', Gend='it', Num='sg', Pers='3'] president)))\n",
        "    (CONJ[] and)\n",
        "    (NPP[Gend='f', Num='sg', Pers='3']\n",
        "      (NP[Gend='f', Mod='0', Num='sg', Pers='3']\n",
        "        (NN[Gend='f', Num='sg', Pers='3'] Mary))))\n",
        "  (V[Be='0', Num='pl', Val='2'] see)\n",
        "  (CONJ[] and)\n",
        "  (V[Be='0', Num='pl', Val='2'] catch))\n",
        "\n",
        "\n",
        "the president likes and hates"
       ]
      },
      {
       "output_type": "stream",
       "stream": "stdout",
       "text": [
        "\n",
        "\n",
        "\n",
        "the president likes the sandwiches and hates"
       ]
      },
      {
       "output_type": "stream",
       "stream": "stdout",
       "text": [
        "\n",
        "\n",
        "\n",
        "what does the president like and hate apples"
       ]
      },
      {
       "output_type": "stream",
       "stream": "stdout",
       "text": [
        "\n",
        "\n",
        "\n",
        "what does the president like sandwiches and hate"
       ]
      },
      {
       "output_type": "stream",
       "stream": "stdout",
       "text": [
        "\n",
        "\n",
        "\n",
        "what do the president like and hate"
       ]
      },
      {
       "output_type": "stream",
       "stream": "stdout",
       "text": [
        "\n",
        "\n",
        "\n"
       ]
      }
     ],
     "prompt_number": 359
    },
    {
     "cell_type": "heading",
     "level": 3,
     "metadata": {},
     "source": [
      "10. \u041e\u0434\u043d\u043e\u0440\u043e\u0434\u043d\u044b\u0435 \u0447\u043b\u0435\u043d\u044b \u043f\u0440\u0435\u0434\u043b\u043e\u0436\u0435\u043d\u0438\u044f \u0438 \u0441\u043b\u043e\u0436\u043d\u044b\u0435 \u043e\u043f\u0440\u0435\u0434\u0435\u043b\u0435\u043d\u0438\u044f."
     ]
    },
    {
     "cell_type": "markdown",
     "metadata": {},
     "source": [
      "\u0420\u0430\u0441\u043c\u043c\u043e\u0442\u0440\u0438\u043c \u043f\u0435\u0440\u0435\u0447\u0438\u0441\u043b\u0435\u043d\u0438\u0435 \u043e\u0434\u043d\u043e\u0440\u043e\u0434\u043d\u044b\u0445 \u0447\u0435\u0440\u0435\u0437 \u0437\u0430\u043f\u044f\u0442\u044b\u0435(COMMA), \u0441\u043e\u0435\u0434\u0438\u043d\u0435\u043d\u0438\u0435 \u043f\u0430\u0440\u044b \u043e\u0434\u043d\u043e\u0440\u043e\u0434\u043d\u044b\u0445 \u0441\u043e\u044e\u0437\u043e\u043c(CONJ), \u0430 \u0442\u0430\u043a\u0436\u0435 \u043f\u0435\u0440\u0435\u0447\u0438\u0441\u043b\u0435\u043d\u0438\u0435 \u0441\u043d\u0430\u0447\u0430\u043b\u0430 \u0447\u0435\u0440\u0435\u0437 \u0437\u0430\u043f\u044f\u0442\u044b\u0435 \u0438 \u043f\u0440\u0438\u043c\u0435\u043d\u0435\u043d\u0438\u0435 \u0441\u043e\u044e\u0437\u0430 \u043f\u0435\u0440\u0435\u0434 \u043f\u043e\u0441\u043b\u0435\u0434\u043d\u0438\u043c \u043e\u0434\u043d\u043e\u0440\u043e\u0434\u043d\u044b\u043c. \u0420\u0430\u0437\u043d\u044b\u0435 \u0447\u0430\u0441\u0442\u0438 \u043f\u0440\u0435\u0434\u043b\u043e\u0436\u0435\u043d\u0438\u044f \u0442\u0440\u0435\u0431\u0443\u044e\u0442 \u0441\u043e\u0445\u0440\u0430\u043d\u0435\u043d\u0438\u044f/\u0438\u0437\u043c\u0435\u043d\u0435\u043d\u0438\u044f \u0440\u0430\u0437\u043d\u044b\u0445 \u043f\u0430\u0440\u0430\u043c\u0435\u0442\u0440\u043e\u0432 \u0432 \u0442\u0430\u043a\u0438\u0445 \u043f\u0435\u0440\u0435\u0447\u0438\u0441\u043b\u0435\u043d\u0438\u044f\u0445, \u043f\u043e\u044d\u0442\u043e\u043c\u0443 \u0440\u0430\u0437\u043d\u044b\u0435 \u0441\u043b\u0443\u0447\u0430\u0438 \u0434\u043b\u044f \u0434\u043e\u043f\u043e\u043b\u043d\u0435\u043d\u0438\u0439(NP), \u043f\u043e\u0434\u043b\u0435\u0436\u0430\u0449\u0438\u0445(NPP), \u0433\u043b\u0430\u0433\u043e\u043b\u043e\u0432 (VP) \u0438 \u043e\u043f\u0440\u0435\u0434\u0435\u043b\u0435\u043d\u0438\u0439(AGJ). \u0422\u0430\u043a\u0436\u0435 \u0434\u043e\u0431\u0430\u0432\u043b\u044f\u0435\u0442\u0441\u044f \u0441\u043b\u043e\u0436\u043d\u043e\u0435 \u043e\u043f\u0440\u0435\u0434\u0435\u043b\u0435\u043d\u0438\u0435 \u0441 \u043d\u0430\u0440\u0435\u0447\u0438\u044f\u043c\u0438(ADV)."
     ]
    },
    {
     "cell_type": "code",
     "collapsed": false,
     "input": [
      "sentences10 = [\n",
      "    (\"Sally eats a sandwich, a burger and a Coca-Cola\", True),\n",
      "    (\"Sally and the president want and need their sandwich\", True),\n",
      "    (\"Sally washes, chopps and tosses the vegetables\", True),\n",
      "    (\"the apple is very ripe or truly highly appetizing\", True),\n",
      "    (\"apples are very ripe and truly highly appetizing vegetables\", True),\n",
      "    \n",
      "    (\"the apple is very ripe and his chicken\", False),\n",
      "    (\"John and Mary is president\", False),\n",
      "    (\"the apple is ripe very appetizing\", False),\n",
      "    (\"the apple and cooks give the ball to the dog\", False),\n",
      "    (\"I need and want, cook breakfast\", False),\n",
      "]\n",
      "\n",
      "check_sentences(sentences10)"
     ],
     "language": "python",
     "metadata": {},
     "outputs": [
      {
       "output_type": "stream",
       "stream": "stdout",
       "text": [
        "Sally eats a sandwich, a burger and a Coca-Cola\n",
        "True \n",
        "(S[]\n",
        "  (NPP[Gend='f', Num='sg', Pers='3']\n",
        "    (NP[Gend='f', Mod='0', Num='sg', Pers='3']\n",
        "      (NN[Gend='f', Num='sg', Pers='3'] Sally)))\n",
        "  (VP[Gend=?g, Mod='0', Num='sg', Pers='3']\n",
        "    (V[Be='0', Num='sg', Pers='3', Val='2'] eats)\n",
        "    (NP[Gend_Subj=?g, Mod='2', Num_Subj=?n, Pers_Subj=?p]\n",
        "      (NP[Gend_Subj=?g, Mod='1', Num_Subj=?n, Pers_Subj=?p]\n",
        "        (NP[Mod='0']\n",
        "          (D[First='c', Num='sg'] a)\n",
        "          (N[First='c', Gend='it', Num='sg', Pers='3'] sandwich))\n",
        "        (COMMA[] ,)\n",
        "        (NP[Mod='0']\n",
        "          (D[First='c', Num='sg'] a)\n",
        "          (N[First='c', Gend='it', Num='sg', Pers='3'] burger)))\n",
        "      (CONJ[] and)\n",
        "      (NP[Mod='0']\n",
        "        (D[First='c', Num='sg'] a)\n",
        "        (N[First='c', Gend='it', Num='sg', Pers='3'] Coca-Cola)))))\n",
        "\n",
        "\n",
        "Sally and the president want and need their sandwich"
       ]
      },
      {
       "output_type": "stream",
       "stream": "stdout",
       "text": [
        "\n",
        "True \n",
        "(S[]\n",
        "  (NPP[Mod='2', Num='pl']\n",
        "    (NPP[Gend='f', Num='sg', Pers='3']\n",
        "      (NP[Gend='f', Mod='0', Num='sg', Pers='3']\n",
        "        (NN[Gend='f', Num='sg', Pers='3'] Sally)))\n",
        "    (CONJ[] and)\n",
        "    (NPP[Gend=?g, Num=?n, Pers=?p]\n",
        "      (NP[Mod='0']\n",
        "        (D[] the)\n",
        "        (N[First='c', Gend='it', Num='sg', Pers='3'] president))))\n",
        "  (VP[Gend=?g, Mod='0', Num='pl', Pers='3']\n",
        "    (V[Be='0', Mod='2', Num='pl', Pers=?p, Val='2']\n",
        "      (V[Be='0', Num='pl', Val='2'] want)\n",
        "      (CONJ[] and)\n",
        "      (V[Be='0', Num='pl', Val='2'] need))\n",
        "    (NP[Gend_Subj=?g, Mod='0', Num_Subj='pl', Pers_Subj='3']\n",
        "      (PPR[Num_Subj='pl', Pers_Subj='3'] their)\n",
        "      (N[First='c', Gend='it', Num='sg', Pers='3'] sandwich))))\n",
        "\n",
        "\n",
        "Sally washes, chopps and tosses the vegetables"
       ]
      },
      {
       "output_type": "stream",
       "stream": "stdout",
       "text": [
        "\n",
        "True \n",
        "(S[]\n",
        "  (NPP[Gend='f', Num='sg', Pers='3']\n",
        "    (NP[Gend='f', Mod='0', Num='sg', Pers='3']\n",
        "      (NN[Gend='f', Num='sg', Pers='3'] Sally)))\n",
        "  (VP[Gend=?g, Mod='0', Num='sg', Pers='3']\n",
        "    (V[Be='0', Mod='2', Num='sg', Pers='3', Val='2']\n",
        "      (V[Be='0', Mod='1', Num='sg', Pers='3', Val='2']\n",
        "        (V[Be='0', Num='sg', Pers='3', Val='2'] washes)\n",
        "        (COMMA[] ,)\n",
        "        (V[Be='0', Num='sg', Pers='3', Val='2'] chopps))\n",
        "      (CONJ[] and)\n",
        "      (V[Be='0', Num='sg', Pers='3', Val='2'] tosses))\n",
        "    (NP[Mod='0']\n",
        "      (D[] the)\n",
        "      (N[First='c', Num='pl', Pers='3'] vegetables))))\n",
        "\n",
        "\n",
        "the apple is very ripe or truly highly appetizing"
       ]
      },
      {
       "output_type": "stream",
       "stream": "stdout",
       "text": [
        "\n",
        "True \n",
        "(S[]\n",
        "  (NPP[Gend=?g, Num=?n, Pers=?p]\n",
        "    (NP[Mod='0']\n",
        "      (D[] the)\n",
        "      (N[First='v', Gend='it', Num='sg', Pers='3'] apple)))\n",
        "  (VP[Gend=?g, Mod='0', Num='sg', Pers='3']\n",
        "    (V[Be='1', Num='sg', Pers='3', Val='2'] is)\n",
        "    (ADJ[First='c', Mod='2']\n",
        "      (ADJ[First='c'] (ADV[First='c'] very) (ADJ[First='c'] ripe))\n",
        "      (CONJ[] or)\n",
        "      (ADJ[First='c']\n",
        "        (ADV[First='c'] truly)\n",
        "        (ADJ[First='c']\n",
        "          (ADV[First='c'] highly)\n",
        "          (ADJ[First='v'] appetizing))))))\n",
        "\n",
        "\n",
        "apples are very ripe and truly highly appetizing vegetables"
       ]
      },
      {
       "output_type": "stream",
       "stream": "stdout",
       "text": [
        "\n",
        "True \n",
        "(S[]\n",
        "  (NPP[Gend=?g, Num=?n, Pers=?p]\n",
        "    (NP[Mod='0'] (N[First='v', Num='pl', Pers='3'] apples)))\n",
        "  (VP[Gend=?g, Mod='0', Num='pl', Pers=?p]\n",
        "    (V[Be='1', Num='pl', Val='2'] are)\n",
        "    (NP[Mod='0']\n",
        "      (N[First='c', Num='pl', Pers='3']\n",
        "        (ADJ[First='c', Mod='2']\n",
        "          (ADJ[First='c']\n",
        "            (ADV[First='c'] very)\n",
        "            (ADJ[First='c'] ripe))\n",
        "          (CONJ[] and)\n",
        "          (ADJ[First='c']\n",
        "            (ADV[First='c'] truly)\n",
        "            (ADJ[First='c']\n",
        "              (ADV[First='c'] highly)\n",
        "              (ADJ[First='v'] appetizing))))\n",
        "        (N[First='c', Num='pl', Pers='3'] vegetables)))))\n",
        "\n",
        "\n",
        "the apple is very ripe and his chicken"
       ]
      },
      {
       "output_type": "stream",
       "stream": "stdout",
       "text": [
        "\n",
        "\n",
        "\n",
        "John and Mary is president"
       ]
      },
      {
       "output_type": "stream",
       "stream": "stdout",
       "text": [
        "\n",
        "\n",
        "\n",
        "the apple is ripe very appetizing"
       ]
      },
      {
       "output_type": "stream",
       "stream": "stdout",
       "text": [
        "\n",
        "\n",
        "\n",
        "the apple and cooks give the ball to the dog"
       ]
      },
      {
       "output_type": "stream",
       "stream": "stdout",
       "text": [
        "\n",
        "\n",
        "\n",
        "I need and want, cook breakfast"
       ]
      },
      {
       "output_type": "stream",
       "stream": "stdout",
       "text": [
        "\n",
        "\n",
        "\n"
       ]
      }
     ],
     "prompt_number": 308
    },
    {
     "cell_type": "heading",
     "level": 3,
     "metadata": {},
     "source": [
      "13. \u041a\u043e\u043b\u0438\u0447\u0435\u0441\u0442\u0432\u0435\u043d\u043d\u044b\u0435 \u0447\u0438\u0441\u043b\u0438\u0442\u0435\u043b\u044c\u043d\u044b\u0435 \u043f\u0440\u043e\u043f\u0438\u0441\u044c\u044e."
     ]
    },
    {
     "cell_type": "markdown",
     "metadata": {},
     "source": [
      "\u0427\u0438\u0441\u043b\u0438\u0442\u0435\u043b\u044c\u043d\u044b\u0435(NUM) \u0441\u0442\u043e\u044f\u0442 \u043d\u0430 \u043c\u0435\u0441\u0442\u0435 \u0430\u0440\u0442\u0438\u043a\u043b\u044f, \u0442\u0440\u0435\u0431\u0443\u044e\u0442 \u0441\u043e\u043b\u0430\u0441\u043e\u0432\u0430\u043d\u0438\u044f \u0441 \u0441\u0443\u0449\u0435\u0441\u0442\u0432\u0438\u0442\u0435\u043b\u044c\u043d\u044b\u043c \u043f\u043e \u0447\u0438\u0441\u043b\u0443. \u041d\u0430\u0434\u043e \u0440\u0430\u0437\u0434\u0435\u043b\u044f\u0442\u044c \u0441\u043b\u0443\u0447\u0430\u0439 \u043ene(\u0435\u0434\u0438\u043d\u0441\u0442\u0432\u0435\u043d\u043d\u043e\u0435 \u0447\u0438\u0441\u043b\u043e) \u0438 \u043e\u0441\u0442\u0430\u043b\u044c\u043d\u044b\u0445 \u0447\u0438\u0441\u043b\u0438\u0442\u0435\u043b\u044c\u043d\u044b\u0445(\u043c\u043d\u043e\u0436\u0435\u0441\u0442\u0432\u0435\u043d\u043d\u043e\u0435)."
     ]
    },
    {
     "cell_type": "code",
     "collapsed": false,
     "input": [
      "sentences13 = [\n",
      "    (\"two apples lie on the table\", True),\n",
      "    (\"one thousand dollars walk into a bar\", True),\n",
      "    (\"one John eats fifty one apples\", True),\n",
      "    (\"John eats seventy six thousand five hundred fifty four steaks\", True),\n",
      "    (\"one Mary cooks two thousand eleven breakfasts\", True),\n",
      "    \n",
      "    (\"Mary sees two apple\", False),\n",
      "    (\"John walks three sixty kilometers\", False),\n",
      "    (\"I eat twenty one\", False),\n",
      "    (\"two John want an apple\", False),\n",
      "    (\"the one thousand twenty apples lies on the ground\", False),\n",
      "]\n",
      "\n",
      "check_sentences(sentences13)"
     ],
     "language": "python",
     "metadata": {},
     "outputs": [
      {
       "output_type": "stream",
       "stream": "stdout",
       "text": [
        "two apples lie on the table\n",
        "True \n",
        "(S[]\n",
        "  (NPP[Gend=?g, Num=?n, Pers=?p]\n",
        "    (NP[NMod='2']\n",
        "      (NUM[One='0']\n",
        "        (NUM_1001[One='0']\n",
        "          (NUM_101[One='0'] (NUM_10[One='0'] (NUM_1[One='0'] two)))))\n",
        "      (N[First='v', Num='pl', Pers='3'] apples)))\n",
        "  (VP[Mod='0', Num='sg', Pers='1']\n",
        "    (V[Be='0', Num='sg', Pers='1', Val='1']\n",
        "      (V[Be='0', Num='pl', Val='1'] lie))\n",
        "    (PP[Num=?n, Pers=?p]\n",
        "      (P[] on)\n",
        "      (NP[Mod='0']\n",
        "        (D[] the)\n",
        "        (N[First='c', Gend='it', Num='sg', Pers='3'] table)))))\n",
        "\n",
        "\n",
        "one thousand dollars walk into a bar"
       ]
      },
      {
       "output_type": "stream",
       "stream": "stdout",
       "text": [
        "\n",
        "True \n",
        "(S[]\n",
        "  (NPP[Gend=?g, Num=?n, Pers=?p]\n",
        "    (NP[NMod='2']\n",
        "      (NUM[One='0']\n",
        "        (NUM_1001[One='0']\n",
        "          (NUM_10[One='1'] (NUM_1[One='1'] one))\n",
        "          (NUM_1000[One='0'] thousand)))\n",
        "      (N[First='c', Num='pl', Pers='3'] dollars)))\n",
        "  (VP[Mod='0', Num='sg', Pers='1']\n",
        "    (V[Be='0', Num='sg', Pers='1', Val='1']\n",
        "      (V[Be='0', Num='pl', Val='1'] walk))\n",
        "    (PP[Num=?n, Pers=?p]\n",
        "      (P[] into)\n",
        "      (NP[Mod='0']\n",
        "        (D[First='c', Num='sg'] a)\n",
        "        (N[First='c', Gend='it', Num='sg', Pers='3'] bar)))))\n",
        "\n",
        "\n",
        "one John eats fifty one apples"
       ]
      },
      {
       "output_type": "stream",
       "stream": "stdout",
       "text": [
        "\n",
        "True \n",
        "(S[]\n",
        "  (NPP[First='v', Gend='m', NMod='2', Num='sg', Pers='3']\n",
        "    (NUM[One='1']\n",
        "      (NUM_1001[One='1']\n",
        "        (NUM_101[One='1'] (NUM_10[One='1'] (NUM_1[One='1'] one)))))\n",
        "    (NPP[Gend='m', Num='sg', Pers='3']\n",
        "      (NP[Gend='m', Mod='0', Num='sg', Pers='3']\n",
        "        (NN[Gend='m', Num='sg', Pers='3'] John))))\n",
        "  (VP[Gend=?g, Mod='0', Num='sg', Pers='3']\n",
        "    (V[Be='0', Num='sg', Pers='3', Val='2'] eats)\n",
        "    (NP[NMod='2']\n",
        "      (NUM[One='0']\n",
        "        (NUM_1001[One='0']\n",
        "          (NUM_101[One='0']\n",
        "            (NUM_10[One='0']\n",
        "              (NUM_20[One='0'] fifty)\n",
        "              (NUM_1[One='1'] one)))))\n",
        "      (N[First='v', Num='pl', Pers='3'] apples))))\n",
        "\n",
        "\n",
        "John eats seventy six thousand five hundred fifty four steaks"
       ]
      },
      {
       "output_type": "stream",
       "stream": "stdout",
       "text": [
        "\n",
        "True \n",
        "(S[]\n",
        "  (NPP[Gend='m', Num='sg', Pers='3']\n",
        "    (NP[Gend='m', Mod='0', Num='sg', Pers='3']\n",
        "      (NN[Gend='m', Num='sg', Pers='3'] John)))\n",
        "  (VP[Gend=?g, Mod='0', Num='sg', Pers='3']\n",
        "    (V[Be='0', Num='sg', Pers='3', Val='2'] eats)\n",
        "    (NP[NMod='2']\n",
        "      (NUM[One='0']\n",
        "        (NUM_1001[One='0']\n",
        "          (NUM_10[One='0']\n",
        "            (NUM_20[One='0'] seventy)\n",
        "            (NUM_1[One='0'] six))\n",
        "          (NUM_1000[One='0'] thousand)\n",
        "          (NUM_101[One='0']\n",
        "            (NUM_1[One='0'] five)\n",
        "            (NUM_100[One='0'] hundred)\n",
        "            (NUM_10[One='0']\n",
        "              (NUM_20[One='0'] fifty)\n",
        "              (NUM_1[One='0'] four)))))\n",
        "      (N[First='c', Num='pl', Pers='3'] steaks))))\n",
        "\n",
        "\n",
        "one Mary cooks two thousand eleven breakfasts"
       ]
      },
      {
       "output_type": "stream",
       "stream": "stdout",
       "text": [
        "\n",
        "True \n",
        "(S[]\n",
        "  (NPP[First='v', Gend='f', NMod='2', Num='sg', Pers='3']\n",
        "    (NUM[One='1']\n",
        "      (NUM_1001[One='1']\n",
        "        (NUM_101[One='1'] (NUM_10[One='1'] (NUM_1[One='1'] one)))))\n",
        "    (NPP[Gend='f', Num='sg', Pers='3']\n",
        "      (NP[Gend='f', Mod='0', Num='sg', Pers='3']\n",
        "        (NN[Gend='f', Num='sg', Pers='3'] Mary))))\n",
        "  (VP[Gend=?g, Mod='0', Num='sg', Pers='3']\n",
        "    (V[Be='0', Num='sg', Pers='3', Val='2'] cooks)\n",
        "    (NP[NMod='2']\n",
        "      (NUM[One='0']\n",
        "        (NUM_1001[One='0']\n",
        "          (NUM_10[One='0'] (NUM_1[One='0'] two))\n",
        "          (NUM_1000[One='0'] thousand)\n",
        "          (NUM_101[One='0'] (NUM_10[One='0'] eleven))))\n",
        "      (N[First='c', Num='pl', Pers='3'] breakfasts))))\n",
        "\n",
        "\n",
        "Mary sees two apple"
       ]
      },
      {
       "output_type": "stream",
       "stream": "stdout",
       "text": [
        "\n",
        "\n",
        "\n",
        "John walks three sixty kilometers"
       ]
      },
      {
       "output_type": "stream",
       "stream": "stdout",
       "text": [
        "\n",
        "\n",
        "\n",
        "I eat twenty one"
       ]
      },
      {
       "output_type": "stream",
       "stream": "stdout",
       "text": [
        "\n",
        "\n",
        "\n",
        "two John want an apple\n",
        "\n",
        "\n",
        "the one thousand twenty apples lies on the ground"
       ]
      },
      {
       "output_type": "stream",
       "stream": "stdout",
       "text": [
        "\n",
        "\n",
        "\n"
       ]
      }
     ],
     "prompt_number": 265
    },
    {
     "cell_type": "code",
     "collapsed": false,
     "input": [],
     "language": "python",
     "metadata": {},
     "outputs": []
    }
   ],
   "metadata": {}
  }
 ]
}